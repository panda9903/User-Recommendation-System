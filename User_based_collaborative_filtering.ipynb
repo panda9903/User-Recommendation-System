{
  "cells": [
    {
      "cell_type": "markdown",
      "metadata": {
        "colab_type": "text",
        "id": "view-in-github"
      },
      "source": [
        "<a href=\"https://colab.research.google.com/github/Vaibhav67979/Ecommerce-product-recommendation-system/blob/main/User_based_collaborative_filtering.ipynb\" target=\"_parent\"><img src=\"https://colab.research.google.com/assets/colab-badge.svg\" alt=\"Open In Colab\"/></a>"
      ]
    },
    {
      "cell_type": "markdown",
      "metadata": {
        "id": "EdILuyLgml_R"
      },
      "source": [
        "# E-commerce Product recommendation System"
      ]
    },
    {
      "cell_type": "markdown",
      "metadata": {
        "id": "m-26iTTympFi"
      },
      "source": [
        "### Importing libraries"
      ]
    },
    {
      "cell_type": "code",
      "execution_count": 1,
      "metadata": {
        "id": "2tSOMad1mlsK"
      },
      "outputs": [],
      "source": [
        "import warnings\n",
        "warnings.filterwarnings('ignore')\n",
        "\n",
        "import numpy as np\n",
        "import pandas as pd\n",
        "\n",
        "import matplotlib.pyplot as plt\n",
        "import seaborn as sns\n",
        "\n",
        "from sklearn.metrics.pairwise import cosine_similarity\n",
        "\n",
        "from sklearn.metrics import mean_squared_error\n",
        "\n",
        "from scipy.sparse.linalg import svds # for sparse matrices"
      ]
    },
    {
      "cell_type": "markdown",
      "metadata": {
        "id": "_eRqhkyAmvFJ"
      },
      "source": [
        "## Importing Dataset"
      ]
    },
    {
      "cell_type": "code",
      "execution_count": 2,
      "metadata": {
        "id": "mnM0NIFemhh0"
      },
      "outputs": [],
      "source": [
        "#Import the data set\n",
        "df = pd.read_csv('./ratings_Electronics.csv', header=None) #There are no headers in the data file\n",
        "\n",
        "df.columns = ['user_id', 'prod_id', 'rating', 'timestamp'] #Adding column names\n",
        "\n",
        "df = df.drop('timestamp', axis=1) #Dropping timestamp\n",
        "\n",
        "df_copy = df.copy(deep=True) #Copying the data to another dataframe"
      ]
    },
    {
      "cell_type": "markdown",
      "metadata": {
        "id": "tbUt2ZCcm2PZ"
      },
      "source": [
        "## EDA - Exploratory Data Analysis\n"
      ]
    },
    {
      "cell_type": "markdown",
      "metadata": {
        "id": "P31sJRBKm7Ox"
      },
      "source": [
        "### Shape"
      ]
    },
    {
      "cell_type": "code",
      "execution_count": 3,
      "metadata": {
        "colab": {
          "base_uri": "https://localhost:8080/"
        },
        "id": "BR0rkn1hm5Ii",
        "outputId": "82d7eac2-4c5f-48b4-e651-1ddb369556d5"
      },
      "outputs": [
        {
          "name": "stdout",
          "output_type": "stream",
          "text": [
            "No of rows =  7824482\n",
            "No of columns =  3\n"
          ]
        }
      ],
      "source": [
        "rows, columns = df.shape\n",
        "print(\"No of rows = \", rows)\n",
        "print(\"No of columns = \", columns)"
      ]
    },
    {
      "cell_type": "markdown",
      "metadata": {
        "id": "BR_AWE5dm-Aw"
      },
      "source": [
        "### Datatypes"
      ]
    },
    {
      "cell_type": "code",
      "execution_count": 4,
      "metadata": {
        "colab": {
          "base_uri": "https://localhost:8080/"
        },
        "id": "VSZphiYsnB7h",
        "outputId": "d8d1c420-88cd-4eba-9137-13076a77098d"
      },
      "outputs": [
        {
          "name": "stdout",
          "output_type": "stream",
          "text": [
            "<class 'pandas.core.frame.DataFrame'>\n",
            "RangeIndex: 7824482 entries, 0 to 7824481\n",
            "Data columns (total 3 columns):\n",
            " #   Column   Dtype  \n",
            "---  ------   -----  \n",
            " 0   user_id  object \n",
            " 1   prod_id  object \n",
            " 2   rating   float64\n",
            "dtypes: float64(1), object(2)\n",
            "memory usage: 179.1+ MB\n"
          ]
        }
      ],
      "source": [
        "df.info()"
      ]
    },
    {
      "cell_type": "markdown",
      "metadata": {
        "id": "nMpYlCbKm__h"
      },
      "source": [
        "### Missing value analysis"
      ]
    },
    {
      "cell_type": "code",
      "execution_count": 5,
      "metadata": {
        "colab": {
          "base_uri": "https://localhost:8080/"
        },
        "id": "TmDkgSH-nG-w",
        "outputId": "75c15ff7-db9d-4aee-bbba-554a671e20ba"
      },
      "outputs": [
        {
          "data": {
            "text/plain": [
              "user_id    0\n",
              "prod_id    0\n",
              "rating     0\n",
              "dtype: int64"
            ]
          },
          "execution_count": 5,
          "metadata": {},
          "output_type": "execute_result"
        }
      ],
      "source": [
        "# Find number of missing values in each column\n",
        "df.isna().sum()"
      ]
    },
    {
      "cell_type": "markdown",
      "metadata": {
        "id": "NuapKpPOnIxg"
      },
      "source": [
        "### Summary"
      ]
    },
    {
      "cell_type": "code",
      "execution_count": 6,
      "metadata": {
        "colab": {
          "base_uri": "https://localhost:8080/"
        },
        "id": "GykhgQNpnLB4",
        "outputId": "25759e88-4166-4b5a-a7ac-42acb8d89efa"
      },
      "outputs": [
        {
          "data": {
            "text/plain": [
              "count    7.824482e+06\n",
              "mean     4.012337e+00\n",
              "std      1.380910e+00\n",
              "min      1.000000e+00\n",
              "25%      3.000000e+00\n",
              "50%      5.000000e+00\n",
              "75%      5.000000e+00\n",
              "max      5.000000e+00\n",
              "Name: rating, dtype: float64"
            ]
          },
          "execution_count": 6,
          "metadata": {},
          "output_type": "execute_result"
        }
      ],
      "source": [
        "# Summary statistics of 'rating' variable\n",
        "df['rating'].describe()"
      ]
    },
    {
      "cell_type": "markdown",
      "metadata": {
        "id": "qITdLlQenOL5"
      },
      "source": [
        "### Rating distribution"
      ]
    },
    {
      "cell_type": "code",
      "execution_count": 7,
      "metadata": {
        "colab": {
          "base_uri": "https://localhost:8080/",
          "height": 530
        },
        "id": "UGyEWlm9nN0Y",
        "outputId": "55ab9599-4fa7-49ee-a6d6-1c044b324afc"
      },
      "outputs": [
        {
          "data": {
            "image/png": "[encoded data removed]",
            "text/plain": [
              "<Figure size 1200x600 with 1 Axes>"
            ]
          },
          "metadata": {},
          "output_type": "display_data"
        }
      ],
      "source": [
        "#Create the plot and provide observations\n",
        "\n",
        "plt.figure(figsize = (12,6))\n",
        "df['rating'].value_counts(1).plot(kind='bar')\n",
        "plt.show()"
      ]
    },
    {
      "cell_type": "markdown",
      "metadata": {
        "id": "_hoBfcSmncDJ"
      },
      "source": [
        "### No of unique users and items"
      ]
    },
    {
      "cell_type": "code",
      "execution_count": 8,
      "metadata": {
        "colab": {
          "base_uri": "https://localhost:8080/"
        },
        "id": "bTzXXqwrnZKh",
        "outputId": "645f1172-dc71-4663-d471-787e01aa1b87"
      },
      "outputs": [
        {
          "name": "stdout",
          "output_type": "stream",
          "text": [
            "Number of unique USERS in Raw data =  4201696\n",
            "Number of unique ITEMS in Raw data =  476002\n"
          ]
        }
      ],
      "source": [
        "# Number of unique user id and product id in the data\n",
        "print('Number of unique USERS in Raw data = ', df['user_id'].nunique())\n",
        "print('Number of unique ITEMS in Raw data = ', df['prod_id'].nunique())"
      ]
    },
    {
      "cell_type": "markdown",
      "metadata": {
        "id": "PhOahvbHnkZJ"
      },
      "source": [
        "### Users with most no of rating"
      ]
    },
    {
      "cell_type": "code",
      "execution_count": 9,
      "metadata": {
        "colab": {
          "base_uri": "https://localhost:8080/"
        },
        "id": "DZ80koFAngO4",
        "outputId": "94792c2c-e4ff-4017-f170-04d99d6972af"
      },
      "outputs": [
        {
          "data": {
            "text/plain": [
              "user_id\n",
              "A5JLAU2ARJ0BO     520\n",
              "ADLVFFE4VBT8      501\n",
              "A3OXHLG6DIBRW8    498\n",
              "A6FIAB28IS79      431\n",
              "A680RUE1FDO8B     406\n",
              "A1ODOGXEYECQQ8    380\n",
              "A36K2N527TXXJN    314\n",
              "A2AY4YUOX2N1BQ    311\n",
              "AWPODHOB4GFWL     308\n",
              "A25C2M3QF9G7OQ    296\n",
              "dtype: int64"
            ]
          },
          "execution_count": 9,
          "metadata": {},
          "output_type": "execute_result"
        }
      ],
      "source": [
        "# Top 10 users based on rating\n",
        "most_rated = df.groupby('user_id').size().sort_values(ascending=False)[:10]\n",
        "most_rated"
      ]
    },
    {
      "cell_type": "markdown",
      "metadata": {
        "id": "ekGg2mL5oaNA"
      },
      "source": [
        "## Pre-Processing\n",
        "\n",
        "Let's take a subset of the dataset (by only keeping the users who have given 50 or more ratings) to make the dataset less sparse and easy to work with."
      ]
    },
    {
      "cell_type": "code",
      "execution_count": 10,
      "metadata": {
        "id": "k3T1weHIodDw"
      },
      "outputs": [],
      "source": [
        "counts = df['user_id'].value_counts()\n",
        "df_final = df[df['user_id'].isin(counts[counts >= 50].index)]"
      ]
    },
    {
      "cell_type": "code",
      "execution_count": 11,
      "metadata": {
        "colab": {
          "base_uri": "https://localhost:8080/"
        },
        "id": "KDnxTiwUordB",
        "outputId": "ccd1716d-31ca-4c52-a56c-fbc2e4209d28"
      },
      "outputs": [
        {
          "name": "stdout",
          "output_type": "stream",
          "text": [
            "The number of observations in the final data = 125871\n",
            "Number of unique USERS in the final data =  1540\n",
            "Number of unique PRODUCTS in the final data =  48190\n"
          ]
        }
      ],
      "source": [
        "print('The number of observations in the final data =', len(df_final))\n",
        "print('Number of unique USERS in the final data = ', df_final['user_id'].nunique())\n",
        "print('Number of unique PRODUCTS in the final data = ', df_final['prod_id'].nunique())"
      ]
    },
    {
      "cell_type": "markdown",
      "metadata": {
        "id": "tsmGpFwqocrg"
      },
      "source": [
        "- The dataframe **df_final has users who have rated 50 or more items**\n",
        "- **We will use df_final to build recommendation systems**"
      ]
    },
    {
      "cell_type": "markdown",
      "metadata": {
        "id": "k6t4Ee-Oo0vD"
      },
      "source": [
        "### Checking the density of the rating matrix"
      ]
    },
    {
      "cell_type": "code",
      "execution_count": 12,
      "metadata": {
        "colab": {
          "base_uri": "https://localhost:8080/",
          "height": 400
        },
        "id": "Q3kGwNuyoxiR",
        "outputId": "7d4b0eac-b797-4d14-c44e-ca7d622faa3e"
      },
      "outputs": [
        {
          "name": "stdout",
          "output_type": "stream",
          "text": [
            "Shape of final_ratings_matrix:  (1540, 48190)\n",
            "given_num_of_ratings =  125871\n",
            "possible_num_of_ratings =  74212600\n",
            "density: 0.17%\n"
          ]
        },
        {
          "data": {
            "text/html": [
              "<div>\n",
              "<style scoped>\n",
              "    .dataframe tbody tr th:only-of-type {\n",
              "        vertical-align: middle;\n",
              "    }\n",
              "\n",
              "    .dataframe tbody tr th {\n",
              "        vertical-align: top;\n",
              "    }\n",
              "\n",
              "    .dataframe thead th {\n",
              "        text-align: right;\n",
              "    }\n",
              "</style>\n",
              "<table border=\"1\" class=\"dataframe\">\n",
              "  <thead>\n",
              "    <tr style=\"text-align: right;\">\n",
              "      <th>prod_id</th>\n",
              "      <th>0594451647</th>\n",
              "      <th>0594481813</th>\n",
              "      <th>0970407998</th>\n",
              "      <th>0972683275</th>\n",
              "      <th>1400501466</th>\n",
              "      <th>1400501520</th>\n",
              "      <th>1400501776</th>\n",
              "      <th>1400532620</th>\n",
              "      <th>1400532655</th>\n",
              "      <th>140053271X</th>\n",
              "      <th>...</th>\n",
              "      <th>B00L5YZCCG</th>\n",
              "      <th>B00L8I6SFY</th>\n",
              "      <th>B00L8QCVL6</th>\n",
              "      <th>B00LA6T0LS</th>\n",
              "      <th>B00LBZ1Z7K</th>\n",
              "      <th>B00LED02VY</th>\n",
              "      <th>B00LGN7Y3G</th>\n",
              "      <th>B00LGQ6HL8</th>\n",
              "      <th>B00LI4ZZO8</th>\n",
              "      <th>B00LKG1MC8</th>\n",
              "    </tr>\n",
              "    <tr>\n",
              "      <th>user_id</th>\n",
              "      <th></th>\n",
              "      <th></th>\n",
              "      <th></th>\n",
              "      <th></th>\n",
              "      <th></th>\n",
              "      <th></th>\n",
              "      <th></th>\n",
              "      <th></th>\n",
              "      <th></th>\n",
              "      <th></th>\n",
              "      <th></th>\n",
              "      <th></th>\n",
              "      <th></th>\n",
              "      <th></th>\n",
              "      <th></th>\n",
              "      <th></th>\n",
              "      <th></th>\n",
              "      <th></th>\n",
              "      <th></th>\n",
              "      <th></th>\n",
              "      <th></th>\n",
              "    </tr>\n",
              "  </thead>\n",
              "  <tbody>\n",
              "    <tr>\n",
              "      <th>A100UD67AHFODS</th>\n",
              "      <td>0.0</td>\n",
              "      <td>0.0</td>\n",
              "      <td>0.0</td>\n",
              "      <td>0.0</td>\n",
              "      <td>0.0</td>\n",
              "      <td>0.0</td>\n",
              "      <td>0.0</td>\n",
              "      <td>0.0</td>\n",
              "      <td>0.0</td>\n",
              "      <td>0.0</td>\n",
              "      <td>...</td>\n",
              "      <td>0.0</td>\n",
              "      <td>0.0</td>\n",
              "      <td>0.0</td>\n",
              "      <td>0.0</td>\n",
              "      <td>0.0</td>\n",
              "      <td>0.0</td>\n",
              "      <td>0.0</td>\n",
              "      <td>0.0</td>\n",
              "      <td>0.0</td>\n",
              "      <td>0.0</td>\n",
              "    </tr>\n",
              "    <tr>\n",
              "      <th>A100WO06OQR8BQ</th>\n",
              "      <td>0.0</td>\n",
              "      <td>0.0</td>\n",
              "      <td>0.0</td>\n",
              "      <td>0.0</td>\n",
              "      <td>0.0</td>\n",
              "      <td>0.0</td>\n",
              "      <td>0.0</td>\n",
              "      <td>0.0</td>\n",
              "      <td>0.0</td>\n",
              "      <td>0.0</td>\n",
              "      <td>...</td>\n",
              "      <td>0.0</td>\n",
              "      <td>0.0</td>\n",
              "      <td>0.0</td>\n",
              "      <td>0.0</td>\n",
              "      <td>0.0</td>\n",
              "      <td>0.0</td>\n",
              "      <td>0.0</td>\n",
              "      <td>0.0</td>\n",
              "      <td>0.0</td>\n",
              "      <td>0.0</td>\n",
              "    </tr>\n",
              "    <tr>\n",
              "      <th>A105S56ODHGJEK</th>\n",
              "      <td>0.0</td>\n",
              "      <td>0.0</td>\n",
              "      <td>0.0</td>\n",
              "      <td>0.0</td>\n",
              "      <td>0.0</td>\n",
              "      <td>0.0</td>\n",
              "      <td>0.0</td>\n",
              "      <td>0.0</td>\n",
              "      <td>0.0</td>\n",
              "      <td>0.0</td>\n",
              "      <td>...</td>\n",
              "      <td>0.0</td>\n",
              "      <td>0.0</td>\n",
              "      <td>0.0</td>\n",
              "      <td>0.0</td>\n",
              "      <td>0.0</td>\n",
              "      <td>0.0</td>\n",
              "      <td>0.0</td>\n",
              "      <td>0.0</td>\n",
              "      <td>0.0</td>\n",
              "      <td>0.0</td>\n",
              "    </tr>\n",
              "    <tr>\n",
              "      <th>A105TOJ6LTVMBG</th>\n",
              "      <td>0.0</td>\n",
              "      <td>0.0</td>\n",
              "      <td>0.0</td>\n",
              "      <td>0.0</td>\n",
              "      <td>0.0</td>\n",
              "      <td>0.0</td>\n",
              "      <td>0.0</td>\n",
              "      <td>0.0</td>\n",
              "      <td>0.0</td>\n",
              "      <td>0.0</td>\n",
              "      <td>...</td>\n",
              "      <td>0.0</td>\n",
              "      <td>0.0</td>\n",
              "      <td>0.0</td>\n",
              "      <td>0.0</td>\n",
              "      <td>0.0</td>\n",
              "      <td>0.0</td>\n",
              "      <td>0.0</td>\n",
              "      <td>0.0</td>\n",
              "      <td>0.0</td>\n",
              "      <td>0.0</td>\n",
              "    </tr>\n",
              "    <tr>\n",
              "      <th>A10AFVU66A79Y1</th>\n",
              "      <td>0.0</td>\n",
              "      <td>0.0</td>\n",
              "      <td>0.0</td>\n",
              "      <td>0.0</td>\n",
              "      <td>0.0</td>\n",
              "      <td>0.0</td>\n",
              "      <td>0.0</td>\n",
              "      <td>0.0</td>\n",
              "      <td>0.0</td>\n",
              "      <td>0.0</td>\n",
              "      <td>...</td>\n",
              "      <td>0.0</td>\n",
              "      <td>0.0</td>\n",
              "      <td>0.0</td>\n",
              "      <td>0.0</td>\n",
              "      <td>0.0</td>\n",
              "      <td>0.0</td>\n",
              "      <td>0.0</td>\n",
              "      <td>0.0</td>\n",
              "      <td>0.0</td>\n",
              "      <td>0.0</td>\n",
              "    </tr>\n",
              "  </tbody>\n",
              "</table>\n",
              "<p>5 rows × 48190 columns</p>\n",
              "</div>"
            ],
            "text/plain": [
              "prod_id         0594451647  0594481813  0970407998  0972683275  1400501466  \\\n",
              "user_id                                                                      \n",
              "A100UD67AHFODS         0.0         0.0         0.0         0.0         0.0   \n",
              "A100WO06OQR8BQ         0.0         0.0         0.0         0.0         0.0   \n",
              "A105S56ODHGJEK         0.0         0.0         0.0         0.0         0.0   \n",
              "A105TOJ6LTVMBG         0.0         0.0         0.0         0.0         0.0   \n",
              "A10AFVU66A79Y1         0.0         0.0         0.0         0.0         0.0   \n",
              "\n",
              "prod_id         1400501520  1400501776  1400532620  1400532655  140053271X  \\\n",
              "user_id                                                                      \n",
              "A100UD67AHFODS         0.0         0.0         0.0         0.0         0.0   \n",
              "A100WO06OQR8BQ         0.0         0.0         0.0         0.0         0.0   \n",
              "A105S56ODHGJEK         0.0         0.0         0.0         0.0         0.0   \n",
              "A105TOJ6LTVMBG         0.0         0.0         0.0         0.0         0.0   \n",
              "A10AFVU66A79Y1         0.0         0.0         0.0         0.0         0.0   \n",
              "\n",
              "prod_id         ...  B00L5YZCCG  B00L8I6SFY  B00L8QCVL6  B00LA6T0LS  \\\n",
              "user_id         ...                                                   \n",
              "A100UD67AHFODS  ...         0.0         0.0         0.0         0.0   \n",
              "A100WO06OQR8BQ  ...         0.0         0.0         0.0         0.0   \n",
              "A105S56ODHGJEK  ...         0.0         0.0         0.0         0.0   \n",
              "A105TOJ6LTVMBG  ...         0.0         0.0         0.0         0.0   \n",
              "A10AFVU66A79Y1  ...         0.0         0.0         0.0         0.0   \n",
              "\n",
              "prod_id         B00LBZ1Z7K  B00LED02VY  B00LGN7Y3G  B00LGQ6HL8  B00LI4ZZO8  \\\n",
              "user_id                                                                      \n",
              "A100UD67AHFODS         0.0         0.0         0.0         0.0         0.0   \n",
              "A100WO06OQR8BQ         0.0         0.0         0.0         0.0         0.0   \n",
              "A105S56ODHGJEK         0.0         0.0         0.0         0.0         0.0   \n",
              "A105TOJ6LTVMBG         0.0         0.0         0.0         0.0         0.0   \n",
              "A10AFVU66A79Y1         0.0         0.0         0.0         0.0         0.0   \n",
              "\n",
              "prod_id         B00LKG1MC8  \n",
              "user_id                     \n",
              "A100UD67AHFODS         0.0  \n",
              "A100WO06OQR8BQ         0.0  \n",
              "A105S56ODHGJEK         0.0  \n",
              "A105TOJ6LTVMBG         0.0  \n",
              "A10AFVU66A79Y1         0.0  \n",
              "\n",
              "[5 rows x 48190 columns]"
            ]
          },
          "execution_count": 12,
          "metadata": {},
          "output_type": "execute_result"
        }
      ],
      "source": [
        "#Creating the interaction matrix of products and users based on ratings and replacing NaN value with 0\n",
        "final_ratings_matrix = df_final.pivot(index = 'user_id', columns ='prod_id', values = 'rating').fillna(0)\n",
        "print('Shape of final_ratings_matrix: ', final_ratings_matrix.shape)\n",
        "\n",
        "#Finding the number of non-zero entries in the interaction matrix \n",
        "given_num_of_ratings = np.count_nonzero(final_ratings_matrix)\n",
        "print('given_num_of_ratings = ', given_num_of_ratings)\n",
        "\n",
        "#Finding the possible number of ratings as per the number of users and products\n",
        "possible_num_of_ratings = final_ratings_matrix.shape[0] * final_ratings_matrix.shape[1]\n",
        "print('possible_num_of_ratings = ', possible_num_of_ratings)\n",
        "\n",
        "#Density of ratings\n",
        "density = (given_num_of_ratings/possible_num_of_ratings)\n",
        "density *= 100\n",
        "print ('density: {:4.2f}%'.format(density))\n",
        "\n",
        "final_ratings_matrix.head()"
      ]
    },
    {
      "cell_type": "markdown",
      "metadata": {
        "id": "2ykt7MfyXw1d"
      },
      "source": [
        "# Collaborative Filtering based Recommendation System "
      ]
    },
    {
      "cell_type": "markdown",
      "metadata": {
        "id": "hXdPQ-0PcUVE"
      },
      "source": [
        "## User based collaborative filtering"
      ]
    },
    {
      "cell_type": "code",
      "execution_count": 13,
      "metadata": {
        "colab": {
          "base_uri": "https://localhost:8080/",
          "height": 331
        },
        "id": "jVP_TvuqX17T",
        "outputId": "f7d8c4ad-8f50-4096-c65d-54e6c414c627"
      },
      "outputs": [
        {
          "data": {
            "text/html": [
              "<div>\n",
              "<style scoped>\n",
              "    .dataframe tbody tr th:only-of-type {\n",
              "        vertical-align: middle;\n",
              "    }\n",
              "\n",
              "    .dataframe tbody tr th {\n",
              "        vertical-align: top;\n",
              "    }\n",
              "\n",
              "    .dataframe thead th {\n",
              "        text-align: right;\n",
              "    }\n",
              "</style>\n",
              "<table border=\"1\" class=\"dataframe\">\n",
              "  <thead>\n",
              "    <tr style=\"text-align: right;\">\n",
              "      <th>prod_id</th>\n",
              "      <th>0594451647</th>\n",
              "      <th>0594481813</th>\n",
              "      <th>0970407998</th>\n",
              "      <th>0972683275</th>\n",
              "      <th>1400501466</th>\n",
              "      <th>1400501520</th>\n",
              "      <th>1400501776</th>\n",
              "      <th>1400532620</th>\n",
              "      <th>1400532655</th>\n",
              "      <th>140053271X</th>\n",
              "      <th>...</th>\n",
              "      <th>B00L5YZCCG</th>\n",
              "      <th>B00L8I6SFY</th>\n",
              "      <th>B00L8QCVL6</th>\n",
              "      <th>B00LA6T0LS</th>\n",
              "      <th>B00LBZ1Z7K</th>\n",
              "      <th>B00LED02VY</th>\n",
              "      <th>B00LGN7Y3G</th>\n",
              "      <th>B00LGQ6HL8</th>\n",
              "      <th>B00LI4ZZO8</th>\n",
              "      <th>B00LKG1MC8</th>\n",
              "    </tr>\n",
              "    <tr>\n",
              "      <th>user_id</th>\n",
              "      <th></th>\n",
              "      <th></th>\n",
              "      <th></th>\n",
              "      <th></th>\n",
              "      <th></th>\n",
              "      <th></th>\n",
              "      <th></th>\n",
              "      <th></th>\n",
              "      <th></th>\n",
              "      <th></th>\n",
              "      <th></th>\n",
              "      <th></th>\n",
              "      <th></th>\n",
              "      <th></th>\n",
              "      <th></th>\n",
              "      <th></th>\n",
              "      <th></th>\n",
              "      <th></th>\n",
              "      <th></th>\n",
              "      <th></th>\n",
              "      <th></th>\n",
              "    </tr>\n",
              "  </thead>\n",
              "  <tbody>\n",
              "    <tr>\n",
              "      <th>A100UD67AHFODS</th>\n",
              "      <td>0.0</td>\n",
              "      <td>0.0</td>\n",
              "      <td>0.0</td>\n",
              "      <td>0.0</td>\n",
              "      <td>0.0</td>\n",
              "      <td>0.0</td>\n",
              "      <td>0.0</td>\n",
              "      <td>0.0</td>\n",
              "      <td>0.0</td>\n",
              "      <td>0.0</td>\n",
              "      <td>...</td>\n",
              "      <td>0.0</td>\n",
              "      <td>0.0</td>\n",
              "      <td>0.0</td>\n",
              "      <td>0.0</td>\n",
              "      <td>0.0</td>\n",
              "      <td>0.0</td>\n",
              "      <td>0.0</td>\n",
              "      <td>0.0</td>\n",
              "      <td>0.0</td>\n",
              "      <td>0.0</td>\n",
              "    </tr>\n",
              "    <tr>\n",
              "      <th>A100WO06OQR8BQ</th>\n",
              "      <td>0.0</td>\n",
              "      <td>0.0</td>\n",
              "      <td>0.0</td>\n",
              "      <td>0.0</td>\n",
              "      <td>0.0</td>\n",
              "      <td>0.0</td>\n",
              "      <td>0.0</td>\n",
              "      <td>0.0</td>\n",
              "      <td>0.0</td>\n",
              "      <td>0.0</td>\n",
              "      <td>...</td>\n",
              "      <td>0.0</td>\n",
              "      <td>0.0</td>\n",
              "      <td>0.0</td>\n",
              "      <td>0.0</td>\n",
              "      <td>0.0</td>\n",
              "      <td>0.0</td>\n",
              "      <td>0.0</td>\n",
              "      <td>0.0</td>\n",
              "      <td>0.0</td>\n",
              "      <td>0.0</td>\n",
              "    </tr>\n",
              "    <tr>\n",
              "      <th>A105S56ODHGJEK</th>\n",
              "      <td>0.0</td>\n",
              "      <td>0.0</td>\n",
              "      <td>0.0</td>\n",
              "      <td>0.0</td>\n",
              "      <td>0.0</td>\n",
              "      <td>0.0</td>\n",
              "      <td>0.0</td>\n",
              "      <td>0.0</td>\n",
              "      <td>0.0</td>\n",
              "      <td>0.0</td>\n",
              "      <td>...</td>\n",
              "      <td>0.0</td>\n",
              "      <td>0.0</td>\n",
              "      <td>0.0</td>\n",
              "      <td>0.0</td>\n",
              "      <td>0.0</td>\n",
              "      <td>0.0</td>\n",
              "      <td>0.0</td>\n",
              "      <td>0.0</td>\n",
              "      <td>0.0</td>\n",
              "      <td>0.0</td>\n",
              "    </tr>\n",
              "    <tr>\n",
              "      <th>A105TOJ6LTVMBG</th>\n",
              "      <td>0.0</td>\n",
              "      <td>0.0</td>\n",
              "      <td>0.0</td>\n",
              "      <td>0.0</td>\n",
              "      <td>0.0</td>\n",
              "      <td>0.0</td>\n",
              "      <td>0.0</td>\n",
              "      <td>0.0</td>\n",
              "      <td>0.0</td>\n",
              "      <td>0.0</td>\n",
              "      <td>...</td>\n",
              "      <td>0.0</td>\n",
              "      <td>0.0</td>\n",
              "      <td>0.0</td>\n",
              "      <td>0.0</td>\n",
              "      <td>0.0</td>\n",
              "      <td>0.0</td>\n",
              "      <td>0.0</td>\n",
              "      <td>0.0</td>\n",
              "      <td>0.0</td>\n",
              "      <td>0.0</td>\n",
              "    </tr>\n",
              "    <tr>\n",
              "      <th>A10AFVU66A79Y1</th>\n",
              "      <td>0.0</td>\n",
              "      <td>0.0</td>\n",
              "      <td>0.0</td>\n",
              "      <td>0.0</td>\n",
              "      <td>0.0</td>\n",
              "      <td>0.0</td>\n",
              "      <td>0.0</td>\n",
              "      <td>0.0</td>\n",
              "      <td>0.0</td>\n",
              "      <td>0.0</td>\n",
              "      <td>...</td>\n",
              "      <td>0.0</td>\n",
              "      <td>0.0</td>\n",
              "      <td>0.0</td>\n",
              "      <td>0.0</td>\n",
              "      <td>0.0</td>\n",
              "      <td>0.0</td>\n",
              "      <td>0.0</td>\n",
              "      <td>0.0</td>\n",
              "      <td>0.0</td>\n",
              "      <td>0.0</td>\n",
              "    </tr>\n",
              "  </tbody>\n",
              "</table>\n",
              "<p>5 rows × 48190 columns</p>\n",
              "</div>"
            ],
            "text/plain": [
              "prod_id         0594451647  0594481813  0970407998  0972683275  1400501466  \\\n",
              "user_id                                                                      \n",
              "A100UD67AHFODS         0.0         0.0         0.0         0.0         0.0   \n",
              "A100WO06OQR8BQ         0.0         0.0         0.0         0.0         0.0   \n",
              "A105S56ODHGJEK         0.0         0.0         0.0         0.0         0.0   \n",
              "A105TOJ6LTVMBG         0.0         0.0         0.0         0.0         0.0   \n",
              "A10AFVU66A79Y1         0.0         0.0         0.0         0.0         0.0   \n",
              "\n",
              "prod_id         1400501520  1400501776  1400532620  1400532655  140053271X  \\\n",
              "user_id                                                                      \n",
              "A100UD67AHFODS         0.0         0.0         0.0         0.0         0.0   \n",
              "A100WO06OQR8BQ         0.0         0.0         0.0         0.0         0.0   \n",
              "A105S56ODHGJEK         0.0         0.0         0.0         0.0         0.0   \n",
              "A105TOJ6LTVMBG         0.0         0.0         0.0         0.0         0.0   \n",
              "A10AFVU66A79Y1         0.0         0.0         0.0         0.0         0.0   \n",
              "\n",
              "prod_id         ...  B00L5YZCCG  B00L8I6SFY  B00L8QCVL6  B00LA6T0LS  \\\n",
              "user_id         ...                                                   \n",
              "A100UD67AHFODS  ...         0.0         0.0         0.0         0.0   \n",
              "A100WO06OQR8BQ  ...         0.0         0.0         0.0         0.0   \n",
              "A105S56ODHGJEK  ...         0.0         0.0         0.0         0.0   \n",
              "A105TOJ6LTVMBG  ...         0.0         0.0         0.0         0.0   \n",
              "A10AFVU66A79Y1  ...         0.0         0.0         0.0         0.0   \n",
              "\n",
              "prod_id         B00LBZ1Z7K  B00LED02VY  B00LGN7Y3G  B00LGQ6HL8  B00LI4ZZO8  \\\n",
              "user_id                                                                      \n",
              "A100UD67AHFODS         0.0         0.0         0.0         0.0         0.0   \n",
              "A100WO06OQR8BQ         0.0         0.0         0.0         0.0         0.0   \n",
              "A105S56ODHGJEK         0.0         0.0         0.0         0.0         0.0   \n",
              "A105TOJ6LTVMBG         0.0         0.0         0.0         0.0         0.0   \n",
              "A10AFVU66A79Y1         0.0         0.0         0.0         0.0         0.0   \n",
              "\n",
              "prod_id         B00LKG1MC8  \n",
              "user_id                     \n",
              "A100UD67AHFODS         0.0  \n",
              "A100WO06OQR8BQ         0.0  \n",
              "A105S56ODHGJEK         0.0  \n",
              "A105TOJ6LTVMBG         0.0  \n",
              "A10AFVU66A79Y1         0.0  \n",
              "\n",
              "[5 rows x 48190 columns]"
            ]
          },
          "execution_count": 13,
          "metadata": {},
          "output_type": "execute_result"
        }
      ],
      "source": [
        "final_ratings_matrix.head()"
      ]
    },
    {
      "cell_type": "markdown",
      "metadata": {
        "id": "JVADHXQHX7_S"
      },
      "source": [
        "Here, user_id (index) is of the object data type. We will replace the user_id by numbers starting from 0 to 1539 (for all user ids) so that the index is of integer type and represents a user id in the same format"
      ]
    },
    {
      "cell_type": "code",
      "execution_count": 14,
      "metadata": {
        "colab": {
          "base_uri": "https://localhost:8080/",
          "height": 331
        },
        "id": "CFAS5YaPX9aD",
        "outputId": "55df9ab8-a3de-4da8-ae4d-509f843cff59"
      },
      "outputs": [
        {
          "data": {
            "text/html": [
              "<div>\n",
              "<style scoped>\n",
              "    .dataframe tbody tr th:only-of-type {\n",
              "        vertical-align: middle;\n",
              "    }\n",
              "\n",
              "    .dataframe tbody tr th {\n",
              "        vertical-align: top;\n",
              "    }\n",
              "\n",
              "    .dataframe thead th {\n",
              "        text-align: right;\n",
              "    }\n",
              "</style>\n",
              "<table border=\"1\" class=\"dataframe\">\n",
              "  <thead>\n",
              "    <tr style=\"text-align: right;\">\n",
              "      <th>prod_id</th>\n",
              "      <th>0594451647</th>\n",
              "      <th>0594481813</th>\n",
              "      <th>0970407998</th>\n",
              "      <th>0972683275</th>\n",
              "      <th>1400501466</th>\n",
              "      <th>1400501520</th>\n",
              "      <th>1400501776</th>\n",
              "      <th>1400532620</th>\n",
              "      <th>1400532655</th>\n",
              "      <th>140053271X</th>\n",
              "      <th>...</th>\n",
              "      <th>B00L5YZCCG</th>\n",
              "      <th>B00L8I6SFY</th>\n",
              "      <th>B00L8QCVL6</th>\n",
              "      <th>B00LA6T0LS</th>\n",
              "      <th>B00LBZ1Z7K</th>\n",
              "      <th>B00LED02VY</th>\n",
              "      <th>B00LGN7Y3G</th>\n",
              "      <th>B00LGQ6HL8</th>\n",
              "      <th>B00LI4ZZO8</th>\n",
              "      <th>B00LKG1MC8</th>\n",
              "    </tr>\n",
              "    <tr>\n",
              "      <th>user_index</th>\n",
              "      <th></th>\n",
              "      <th></th>\n",
              "      <th></th>\n",
              "      <th></th>\n",
              "      <th></th>\n",
              "      <th></th>\n",
              "      <th></th>\n",
              "      <th></th>\n",
              "      <th></th>\n",
              "      <th></th>\n",
              "      <th></th>\n",
              "      <th></th>\n",
              "      <th></th>\n",
              "      <th></th>\n",
              "      <th></th>\n",
              "      <th></th>\n",
              "      <th></th>\n",
              "      <th></th>\n",
              "      <th></th>\n",
              "      <th></th>\n",
              "      <th></th>\n",
              "    </tr>\n",
              "  </thead>\n",
              "  <tbody>\n",
              "    <tr>\n",
              "      <th>0</th>\n",
              "      <td>0.0</td>\n",
              "      <td>0.0</td>\n",
              "      <td>0.0</td>\n",
              "      <td>0.0</td>\n",
              "      <td>0.0</td>\n",
              "      <td>0.0</td>\n",
              "      <td>0.0</td>\n",
              "      <td>0.0</td>\n",
              "      <td>0.0</td>\n",
              "      <td>0.0</td>\n",
              "      <td>...</td>\n",
              "      <td>0.0</td>\n",
              "      <td>0.0</td>\n",
              "      <td>0.0</td>\n",
              "      <td>0.0</td>\n",
              "      <td>0.0</td>\n",
              "      <td>0.0</td>\n",
              "      <td>0.0</td>\n",
              "      <td>0.0</td>\n",
              "      <td>0.0</td>\n",
              "      <td>0.0</td>\n",
              "    </tr>\n",
              "    <tr>\n",
              "      <th>1</th>\n",
              "      <td>0.0</td>\n",
              "      <td>0.0</td>\n",
              "      <td>0.0</td>\n",
              "      <td>0.0</td>\n",
              "      <td>0.0</td>\n",
              "      <td>0.0</td>\n",
              "      <td>0.0</td>\n",
              "      <td>0.0</td>\n",
              "      <td>0.0</td>\n",
              "      <td>0.0</td>\n",
              "      <td>...</td>\n",
              "      <td>0.0</td>\n",
              "      <td>0.0</td>\n",
              "      <td>0.0</td>\n",
              "      <td>0.0</td>\n",
              "      <td>0.0</td>\n",
              "      <td>0.0</td>\n",
              "      <td>0.0</td>\n",
              "      <td>0.0</td>\n",
              "      <td>0.0</td>\n",
              "      <td>0.0</td>\n",
              "    </tr>\n",
              "    <tr>\n",
              "      <th>2</th>\n",
              "      <td>0.0</td>\n",
              "      <td>0.0</td>\n",
              "      <td>0.0</td>\n",
              "      <td>0.0</td>\n",
              "      <td>0.0</td>\n",
              "      <td>0.0</td>\n",
              "      <td>0.0</td>\n",
              "      <td>0.0</td>\n",
              "      <td>0.0</td>\n",
              "      <td>0.0</td>\n",
              "      <td>...</td>\n",
              "      <td>0.0</td>\n",
              "      <td>0.0</td>\n",
              "      <td>0.0</td>\n",
              "      <td>0.0</td>\n",
              "      <td>0.0</td>\n",
              "      <td>0.0</td>\n",
              "      <td>0.0</td>\n",
              "      <td>0.0</td>\n",
              "      <td>0.0</td>\n",
              "      <td>0.0</td>\n",
              "    </tr>\n",
              "    <tr>\n",
              "      <th>3</th>\n",
              "      <td>0.0</td>\n",
              "      <td>0.0</td>\n",
              "      <td>0.0</td>\n",
              "      <td>0.0</td>\n",
              "      <td>0.0</td>\n",
              "      <td>0.0</td>\n",
              "      <td>0.0</td>\n",
              "      <td>0.0</td>\n",
              "      <td>0.0</td>\n",
              "      <td>0.0</td>\n",
              "      <td>...</td>\n",
              "      <td>0.0</td>\n",
              "      <td>0.0</td>\n",
              "      <td>0.0</td>\n",
              "      <td>0.0</td>\n",
              "      <td>0.0</td>\n",
              "      <td>0.0</td>\n",
              "      <td>0.0</td>\n",
              "      <td>0.0</td>\n",
              "      <td>0.0</td>\n",
              "      <td>0.0</td>\n",
              "    </tr>\n",
              "    <tr>\n",
              "      <th>4</th>\n",
              "      <td>0.0</td>\n",
              "      <td>0.0</td>\n",
              "      <td>0.0</td>\n",
              "      <td>0.0</td>\n",
              "      <td>0.0</td>\n",
              "      <td>0.0</td>\n",
              "      <td>0.0</td>\n",
              "      <td>0.0</td>\n",
              "      <td>0.0</td>\n",
              "      <td>0.0</td>\n",
              "      <td>...</td>\n",
              "      <td>0.0</td>\n",
              "      <td>0.0</td>\n",
              "      <td>0.0</td>\n",
              "      <td>0.0</td>\n",
              "      <td>0.0</td>\n",
              "      <td>0.0</td>\n",
              "      <td>0.0</td>\n",
              "      <td>0.0</td>\n",
              "      <td>0.0</td>\n",
              "      <td>0.0</td>\n",
              "    </tr>\n",
              "  </tbody>\n",
              "</table>\n",
              "<p>5 rows × 48190 columns</p>\n",
              "</div>"
            ],
            "text/plain": [
              "prod_id     0594451647  0594481813  0970407998  0972683275  1400501466  \\\n",
              "user_index                                                               \n",
              "0                  0.0         0.0         0.0         0.0         0.0   \n",
              "1                  0.0         0.0         0.0         0.0         0.0   \n",
              "2                  0.0         0.0         0.0         0.0         0.0   \n",
              "3                  0.0         0.0         0.0         0.0         0.0   \n",
              "4                  0.0         0.0         0.0         0.0         0.0   \n",
              "\n",
              "prod_id     1400501520  1400501776  1400532620  1400532655  140053271X  ...  \\\n",
              "user_index                                                              ...   \n",
              "0                  0.0         0.0         0.0         0.0         0.0  ...   \n",
              "1                  0.0         0.0         0.0         0.0         0.0  ...   \n",
              "2                  0.0         0.0         0.0         0.0         0.0  ...   \n",
              "3                  0.0         0.0         0.0         0.0         0.0  ...   \n",
              "4                  0.0         0.0         0.0         0.0         0.0  ...   \n",
              "\n",
              "prod_id     B00L5YZCCG  B00L8I6SFY  B00L8QCVL6  B00LA6T0LS  B00LBZ1Z7K  \\\n",
              "user_index                                                               \n",
              "0                  0.0         0.0         0.0         0.0         0.0   \n",
              "1                  0.0         0.0         0.0         0.0         0.0   \n",
              "2                  0.0         0.0         0.0         0.0         0.0   \n",
              "3                  0.0         0.0         0.0         0.0         0.0   \n",
              "4                  0.0         0.0         0.0         0.0         0.0   \n",
              "\n",
              "prod_id     B00LED02VY  B00LGN7Y3G  B00LGQ6HL8  B00LI4ZZO8  B00LKG1MC8  \n",
              "user_index                                                              \n",
              "0                  0.0         0.0         0.0         0.0         0.0  \n",
              "1                  0.0         0.0         0.0         0.0         0.0  \n",
              "2                  0.0         0.0         0.0         0.0         0.0  \n",
              "3                  0.0         0.0         0.0         0.0         0.0  \n",
              "4                  0.0         0.0         0.0         0.0         0.0  \n",
              "\n",
              "[5 rows x 48190 columns]"
            ]
          },
          "execution_count": 14,
          "metadata": {},
          "output_type": "execute_result"
        }
      ],
      "source": [
        "final_ratings_matrix['user_index'] = np.arange(0, final_ratings_matrix.shape[0])\n",
        "final_ratings_matrix.set_index(['user_index'], inplace=True)\n",
        "\n",
        "# Actual ratings given by users\n",
        "final_ratings_matrix.head()"
      ]
    },
    {
      "cell_type": "markdown",
      "metadata": {
        "id": "XF4rlGcsb8-D"
      },
      "source": [
        "### Function to find Similar users and their similarity scores"
      ]
    },
    {
      "cell_type": "code",
      "execution_count": 15,
      "metadata": {
        "id": "OlJyXfxTX_I7"
      },
      "outputs": [],
      "source": [
        "# defining a function to get similar users\n",
        "def similar_users(user_index, interactions_matrix):\n",
        "    similarity = []\n",
        "    for user in range(0, interactions_matrix.shape[0]): #  .shape[0] gives number of rows\n",
        "        \n",
        "        #finding cosine similarity between the user_id and each user\n",
        "        sim = cosine_similarity([interactions_matrix.loc[user_index]], [interactions_matrix.loc[user]])\n",
        "        \n",
        "        #Appending the user and the corresponding similarity score with user_id as a tuple\n",
        "        similarity.append((user,sim))\n",
        "        \n",
        "    similarity.sort(key=lambda x: x[1], reverse=True)\n",
        "    most_similar_users = [tup[0] for tup in similarity] #Extract the user from each tuple in the sorted list\n",
        "    similarity_score = [tup[1] for tup in similarity] ##Extracting the similarity score from each tuple in the sorted list\n",
        "   \n",
        "    #Remove the original user and its similarity score and keep only other similar users \n",
        "    most_similar_users.remove(user_index)\n",
        "    similarity_score.remove(similarity_score[0])\n",
        "       \n",
        "    return most_similar_users, similarity_score"
      ]
    },
    {
      "cell_type": "markdown",
      "metadata": {
        "id": "t8YQa3aSYDQc"
      },
      "source": [
        "#### Finding out top 10 similar users to the user index 3 and their similarity score"
      ]
    },
    {
      "cell_type": "code",
      "execution_count": 16,
      "metadata": {
        "colab": {
          "base_uri": "https://localhost:8080/"
        },
        "id": "BevLPijqYFYK",
        "outputId": "1d04cdab-d446-4726-b85b-99eb2f94a316"
      },
      "outputs": [
        {
          "data": {
            "text/plain": [
              "[320, 12, 793, 261, 156, 1493, 1250, 567, 753, 1360]"
            ]
          },
          "execution_count": 16,
          "metadata": {},
          "output_type": "execute_result"
        }
      ],
      "source": [
        "similar = similar_users(3,final_ratings_matrix)[0][0:10]\n",
        "similar"
      ]
    },
    {
      "cell_type": "code",
      "execution_count": 17,
      "metadata": {
        "colab": {
          "base_uri": "https://localhost:8080/"
        },
        "id": "GbbgcMaKYJXz",
        "outputId": "e1c5e877-d8a0-4f92-fdec-af4562542c17"
      },
      "outputs": [
        {
          "data": {
            "text/plain": [
              "[array([[0.05662371]]),\n",
              " array([[0.05549645]]),\n",
              " array([[0.05098326]]),\n",
              " array([[0.05024185]]),\n",
              " array([[0.05003874]]),\n",
              " array([[0.04930111]]),\n",
              " array([[0.04889354]]),\n",
              " array([[0.04672744]]),\n",
              " array([[0.04637283]]),\n",
              " array([[0.04492668]])]"
            ]
          },
          "execution_count": 17,
          "metadata": {},
          "output_type": "execute_result"
        }
      ],
      "source": [
        "#Print the similarity score\n",
        "similar_users(3,final_ratings_matrix)[1][0:10]"
      ]
    },
    {
      "cell_type": "markdown",
      "metadata": {
        "id": "ozHlmOBmYHeT"
      },
      "source": [
        "#### Finding out top 10 similar users to the user index 1521 and their similarity score"
      ]
    },
    {
      "cell_type": "code",
      "execution_count": 18,
      "metadata": {
        "colab": {
          "base_uri": "https://localhost:8080/"
        },
        "id": "S8JFRg9XYPE8",
        "outputId": "66801699-abb6-4da2-8c2d-86a3ccf6917c"
      },
      "outputs": [
        {
          "data": {
            "text/plain": [
              "[991, 1065, 1012, 1402, 1371, 1278, 1518, 692, 785, 161]"
            ]
          },
          "execution_count": 18,
          "metadata": {},
          "output_type": "execute_result"
        }
      ],
      "source": [
        "similar = similar_users(1521, final_ratings_matrix)[0][0:10]\n",
        "similar"
      ]
    },
    {
      "cell_type": "code",
      "execution_count": 19,
      "metadata": {
        "colab": {
          "base_uri": "https://localhost:8080/"
        },
        "id": "tsnilvK-YTST",
        "outputId": "58afdd6c-1f95-481a-94d9-1ef9269e7cc0"
      },
      "outputs": [
        {
          "data": {
            "text/plain": [
              "[array([[0.10889304]]),\n",
              " array([[0.10538068]]),\n",
              " array([[0.1026758]]),\n",
              " array([[0.09418291]]),\n",
              " array([[0.09149062]]),\n",
              " array([[0.09135361]]),\n",
              " array([[0.09028898]]),\n",
              " array([[0.08735684]]),\n",
              " array([[0.08673386]]),\n",
              " array([[0.08478815]])]"
            ]
          },
          "execution_count": 19,
          "metadata": {},
          "output_type": "execute_result"
        }
      ],
      "source": [
        "#Print the similarity score\n",
        "similar_users(1521,final_ratings_matrix)[1][0:10]"
      ]
    },
    {
      "cell_type": "markdown",
      "metadata": {
        "id": "qXSJzV0EcFcC"
      },
      "source": [
        "### Function to recommend products"
      ]
    },
    {
      "cell_type": "code",
      "execution_count": 20,
      "metadata": {
        "id": "uq6Wzl1kYX3U"
      },
      "outputs": [],
      "source": [
        "# defining the recommendations function to get recommendations by using the similar users' preferences\n",
        "def recommendations(user_index, num_of_products, interactions_matrix):\n",
        "    \n",
        "    #Saving similar users using the function similar_users defined above\n",
        "    most_similar_users = similar_users(user_index, interactions_matrix)[0]\n",
        "    \n",
        "    #Finding product IDs with which the user_id has interacted\n",
        "    prod_ids = set(list(interactions_matrix.columns[np.where(interactions_matrix.loc[user_index] > 0)]))\n",
        "    recommendations = []\n",
        "    \n",
        "    observed_interactions = prod_ids.copy()\n",
        "    for similar_user in most_similar_users:\n",
        "        if len(recommendations) < num_of_products:\n",
        "            \n",
        "            #Finding 'n' products which have been rated by similar users but not by the user_id\n",
        "            similar_user_prod_ids = set(list(interactions_matrix.columns[np.where(interactions_matrix.loc[similar_user] > 0)]))\n",
        "            recommendations.extend(list(similar_user_prod_ids.difference(observed_interactions)))\n",
        "            observed_interactions = observed_interactions.union(similar_user_prod_ids)\n",
        "        else:\n",
        "            break\n",
        "    \n",
        "    return recommendations[:num_of_products]"
      ]
    },
    {
      "cell_type": "markdown",
      "metadata": {
        "id": "p6IzV6fTYbhW"
      },
      "source": [
        "#### Recommend 5 products to user index 3 based on similarity based collaborative filtering"
      ]
    },
    {
      "cell_type": "code",
      "execution_count": 21,
      "metadata": {
        "colab": {
          "base_uri": "https://localhost:8080/"
        },
        "id": "KBF7-RKIYcVL",
        "outputId": "38957d77-0e8e-419a-e958-2e4e835d49ed"
      },
      "outputs": [
        {
          "data": {
            "text/plain": [
              "['B00066HP2E', 'B000ENRQ3M', 'B000067SF5', 'B000Z80ICM', 'B004LRO7FW']"
            ]
          },
          "execution_count": 21,
          "metadata": {},
          "output_type": "execute_result"
        }
      ],
      "source": [
        "recommendations(3,5,final_ratings_matrix)"
      ]
    },
    {
      "cell_type": "markdown",
      "metadata": {
        "id": "pNxqmWlAYoiK"
      },
      "source": [
        "#### Recommend 5 products to user index 1521 based on similarity based collaborative filtering"
      ]
    },
    {
      "cell_type": "code",
      "execution_count": 22,
      "metadata": {
        "colab": {
          "base_uri": "https://localhost:8080/"
        },
        "id": "Gs0zuFFQYpQi",
        "outputId": "319dcde7-75fd-4978-f790-3e2fc9cff683"
      },
      "outputs": [
        {
          "data": {
            "text/plain": [
              "['B002P8M4IQ', 'B008DWCRQW', 'B0040XQ7PK', 'B005LIDMYM', 'B002L6GEKG']"
            ]
          },
          "execution_count": 22,
          "metadata": {},
          "output_type": "execute_result"
        }
      ],
      "source": [
        "recommendations(1521,5,final_ratings_matrix)"
      ]
    },
    {
      "cell_type": "markdown",
      "metadata": {},
      "source": [
        "# Evaluating the model \n"
      ]
    },
    {
      "cell_type": "code",
      "execution_count": 23,
      "metadata": {},
      "outputs": [
        {
          "data": {
            "text/html": [
              "<div>\n",
              "<style scoped>\n",
              "    .dataframe tbody tr th:only-of-type {\n",
              "        vertical-align: middle;\n",
              "    }\n",
              "\n",
              "    .dataframe tbody tr th {\n",
              "        vertical-align: top;\n",
              "    }\n",
              "\n",
              "    .dataframe thead th {\n",
              "        text-align: right;\n",
              "    }\n",
              "</style>\n",
              "<table border=\"1\" class=\"dataframe\">\n",
              "  <thead>\n",
              "    <tr style=\"text-align: right;\">\n",
              "      <th>prod_id</th>\n",
              "      <th>0594451647</th>\n",
              "      <th>0594481813</th>\n",
              "      <th>0970407998</th>\n",
              "      <th>0972683275</th>\n",
              "      <th>1400501466</th>\n",
              "      <th>1400501520</th>\n",
              "      <th>1400501776</th>\n",
              "      <th>1400532620</th>\n",
              "      <th>1400532655</th>\n",
              "      <th>140053271X</th>\n",
              "      <th>...</th>\n",
              "      <th>B00L5YZCCG</th>\n",
              "      <th>B00L8I6SFY</th>\n",
              "      <th>B00L8QCVL6</th>\n",
              "      <th>B00LA6T0LS</th>\n",
              "      <th>B00LBZ1Z7K</th>\n",
              "      <th>B00LED02VY</th>\n",
              "      <th>B00LGN7Y3G</th>\n",
              "      <th>B00LGQ6HL8</th>\n",
              "      <th>B00LI4ZZO8</th>\n",
              "      <th>B00LKG1MC8</th>\n",
              "    </tr>\n",
              "    <tr>\n",
              "      <th>user_index</th>\n",
              "      <th></th>\n",
              "      <th></th>\n",
              "      <th></th>\n",
              "      <th></th>\n",
              "      <th></th>\n",
              "      <th></th>\n",
              "      <th></th>\n",
              "      <th></th>\n",
              "      <th></th>\n",
              "      <th></th>\n",
              "      <th></th>\n",
              "      <th></th>\n",
              "      <th></th>\n",
              "      <th></th>\n",
              "      <th></th>\n",
              "      <th></th>\n",
              "      <th></th>\n",
              "      <th></th>\n",
              "      <th></th>\n",
              "      <th></th>\n",
              "      <th></th>\n",
              "    </tr>\n",
              "  </thead>\n",
              "  <tbody>\n",
              "    <tr>\n",
              "      <th>0</th>\n",
              "      <td>0.0</td>\n",
              "      <td>0.0</td>\n",
              "      <td>0.0</td>\n",
              "      <td>0.0</td>\n",
              "      <td>0.0</td>\n",
              "      <td>0.0</td>\n",
              "      <td>0.0</td>\n",
              "      <td>0.0</td>\n",
              "      <td>0.0</td>\n",
              "      <td>0.0</td>\n",
              "      <td>...</td>\n",
              "      <td>0.0</td>\n",
              "      <td>0.0</td>\n",
              "      <td>0.0</td>\n",
              "      <td>0.0</td>\n",
              "      <td>0.0</td>\n",
              "      <td>0.0</td>\n",
              "      <td>0.0</td>\n",
              "      <td>0.0</td>\n",
              "      <td>0.0</td>\n",
              "      <td>0.0</td>\n",
              "    </tr>\n",
              "    <tr>\n",
              "      <th>1</th>\n",
              "      <td>0.0</td>\n",
              "      <td>0.0</td>\n",
              "      <td>0.0</td>\n",
              "      <td>0.0</td>\n",
              "      <td>0.0</td>\n",
              "      <td>0.0</td>\n",
              "      <td>0.0</td>\n",
              "      <td>0.0</td>\n",
              "      <td>0.0</td>\n",
              "      <td>0.0</td>\n",
              "      <td>...</td>\n",
              "      <td>0.0</td>\n",
              "      <td>0.0</td>\n",
              "      <td>0.0</td>\n",
              "      <td>0.0</td>\n",
              "      <td>0.0</td>\n",
              "      <td>0.0</td>\n",
              "      <td>0.0</td>\n",
              "      <td>0.0</td>\n",
              "      <td>0.0</td>\n",
              "      <td>0.0</td>\n",
              "    </tr>\n",
              "    <tr>\n",
              "      <th>2</th>\n",
              "      <td>0.0</td>\n",
              "      <td>0.0</td>\n",
              "      <td>0.0</td>\n",
              "      <td>0.0</td>\n",
              "      <td>0.0</td>\n",
              "      <td>0.0</td>\n",
              "      <td>0.0</td>\n",
              "      <td>0.0</td>\n",
              "      <td>0.0</td>\n",
              "      <td>0.0</td>\n",
              "      <td>...</td>\n",
              "      <td>0.0</td>\n",
              "      <td>0.0</td>\n",
              "      <td>0.0</td>\n",
              "      <td>0.0</td>\n",
              "      <td>0.0</td>\n",
              "      <td>0.0</td>\n",
              "      <td>0.0</td>\n",
              "      <td>0.0</td>\n",
              "      <td>0.0</td>\n",
              "      <td>0.0</td>\n",
              "    </tr>\n",
              "    <tr>\n",
              "      <th>3</th>\n",
              "      <td>0.0</td>\n",
              "      <td>0.0</td>\n",
              "      <td>0.0</td>\n",
              "      <td>0.0</td>\n",
              "      <td>0.0</td>\n",
              "      <td>0.0</td>\n",
              "      <td>0.0</td>\n",
              "      <td>0.0</td>\n",
              "      <td>0.0</td>\n",
              "      <td>0.0</td>\n",
              "      <td>...</td>\n",
              "      <td>0.0</td>\n",
              "      <td>0.0</td>\n",
              "      <td>0.0</td>\n",
              "      <td>0.0</td>\n",
              "      <td>0.0</td>\n",
              "      <td>0.0</td>\n",
              "      <td>0.0</td>\n",
              "      <td>0.0</td>\n",
              "      <td>0.0</td>\n",
              "      <td>0.0</td>\n",
              "    </tr>\n",
              "    <tr>\n",
              "      <th>4</th>\n",
              "      <td>0.0</td>\n",
              "      <td>0.0</td>\n",
              "      <td>0.0</td>\n",
              "      <td>0.0</td>\n",
              "      <td>0.0</td>\n",
              "      <td>0.0</td>\n",
              "      <td>0.0</td>\n",
              "      <td>0.0</td>\n",
              "      <td>0.0</td>\n",
              "      <td>0.0</td>\n",
              "      <td>...</td>\n",
              "      <td>0.0</td>\n",
              "      <td>0.0</td>\n",
              "      <td>0.0</td>\n",
              "      <td>0.0</td>\n",
              "      <td>0.0</td>\n",
              "      <td>0.0</td>\n",
              "      <td>0.0</td>\n",
              "      <td>0.0</td>\n",
              "      <td>0.0</td>\n",
              "      <td>0.0</td>\n",
              "    </tr>\n",
              "  </tbody>\n",
              "</table>\n",
              "<p>5 rows × 48190 columns</p>\n",
              "</div>"
            ],
            "text/plain": [
              "prod_id     0594451647  0594481813  0970407998  0972683275  1400501466  \\\n",
              "user_index                                                               \n",
              "0                  0.0         0.0         0.0         0.0         0.0   \n",
              "1                  0.0         0.0         0.0         0.0         0.0   \n",
              "2                  0.0         0.0         0.0         0.0         0.0   \n",
              "3                  0.0         0.0         0.0         0.0         0.0   \n",
              "4                  0.0         0.0         0.0         0.0         0.0   \n",
              "\n",
              "prod_id     1400501520  1400501776  1400532620  1400532655  140053271X  ...  \\\n",
              "user_index                                                              ...   \n",
              "0                  0.0         0.0         0.0         0.0         0.0  ...   \n",
              "1                  0.0         0.0         0.0         0.0         0.0  ...   \n",
              "2                  0.0         0.0         0.0         0.0         0.0  ...   \n",
              "3                  0.0         0.0         0.0         0.0         0.0  ...   \n",
              "4                  0.0         0.0         0.0         0.0         0.0  ...   \n",
              "\n",
              "prod_id     B00L5YZCCG  B00L8I6SFY  B00L8QCVL6  B00LA6T0LS  B00LBZ1Z7K  \\\n",
              "user_index                                                               \n",
              "0                  0.0         0.0         0.0         0.0         0.0   \n",
              "1                  0.0         0.0         0.0         0.0         0.0   \n",
              "2                  0.0         0.0         0.0         0.0         0.0   \n",
              "3                  0.0         0.0         0.0         0.0         0.0   \n",
              "4                  0.0         0.0         0.0         0.0         0.0   \n",
              "\n",
              "prod_id     B00LED02VY  B00LGN7Y3G  B00LGQ6HL8  B00LI4ZZO8  B00LKG1MC8  \n",
              "user_index                                                              \n",
              "0                  0.0         0.0         0.0         0.0         0.0  \n",
              "1                  0.0         0.0         0.0         0.0         0.0  \n",
              "2                  0.0         0.0         0.0         0.0         0.0  \n",
              "3                  0.0         0.0         0.0         0.0         0.0  \n",
              "4                  0.0         0.0         0.0         0.0         0.0  \n",
              "\n",
              "[5 rows x 48190 columns]"
            ]
          },
          "execution_count": 23,
          "metadata": {},
          "output_type": "execute_result"
        }
      ],
      "source": [
        "final_ratings_matrix['user_index'] = np.arange(0, final_ratings_matrix.shape[0])\n",
        "final_ratings_matrix.set_index(['user_index'], inplace=True)\n",
        "\n",
        "# Actual ratings given by users\n",
        "final_ratings_matrix.head()"
      ]
    },
    {
      "cell_type": "code",
      "execution_count": 24,
      "metadata": {},
      "outputs": [
        {
          "data": {
            "text/plain": [
              "prod_id\n",
              "0594451647    0.003247\n",
              "0594481813    0.001948\n",
              "0970407998    0.003247\n",
              "0972683275    0.012338\n",
              "1400501466    0.012987\n",
              "dtype: float64"
            ]
          },
          "execution_count": 24,
          "metadata": {},
          "output_type": "execute_result"
        }
      ],
      "source": [
        "average_rating = final_ratings_matrix.mean()\n",
        "average_rating.head()"
      ]
    },
    {
      "cell_type": "code",
      "execution_count": 25,
      "metadata": {},
      "outputs": [
        {
          "name": "stdout",
          "output_type": "stream",
          "text": [
            "Shape of final_ratings_matrix:  (1540, 48190)\n",
            "given_num_of_ratings =  125871\n",
            "possible_num_of_ratings =  74212600\n",
            "density: 0.17%\n"
          ]
        },
        {
          "data": {
            "text/html": [
              "<div>\n",
              "<style scoped>\n",
              "    .dataframe tbody tr th:only-of-type {\n",
              "        vertical-align: middle;\n",
              "    }\n",
              "\n",
              "    .dataframe tbody tr th {\n",
              "        vertical-align: top;\n",
              "    }\n",
              "\n",
              "    .dataframe thead th {\n",
              "        text-align: right;\n",
              "    }\n",
              "</style>\n",
              "<table border=\"1\" class=\"dataframe\">\n",
              "  <thead>\n",
              "    <tr style=\"text-align: right;\">\n",
              "      <th>prod_id</th>\n",
              "      <th>0594451647</th>\n",
              "      <th>0594481813</th>\n",
              "      <th>0970407998</th>\n",
              "      <th>0972683275</th>\n",
              "      <th>1400501466</th>\n",
              "      <th>1400501520</th>\n",
              "      <th>1400501776</th>\n",
              "      <th>1400532620</th>\n",
              "      <th>1400532655</th>\n",
              "      <th>140053271X</th>\n",
              "      <th>...</th>\n",
              "      <th>B00L5YZCCG</th>\n",
              "      <th>B00L8I6SFY</th>\n",
              "      <th>B00L8QCVL6</th>\n",
              "      <th>B00LA6T0LS</th>\n",
              "      <th>B00LBZ1Z7K</th>\n",
              "      <th>B00LED02VY</th>\n",
              "      <th>B00LGN7Y3G</th>\n",
              "      <th>B00LGQ6HL8</th>\n",
              "      <th>B00LI4ZZO8</th>\n",
              "      <th>B00LKG1MC8</th>\n",
              "    </tr>\n",
              "    <tr>\n",
              "      <th>user_id</th>\n",
              "      <th></th>\n",
              "      <th></th>\n",
              "      <th></th>\n",
              "      <th></th>\n",
              "      <th></th>\n",
              "      <th></th>\n",
              "      <th></th>\n",
              "      <th></th>\n",
              "      <th></th>\n",
              "      <th></th>\n",
              "      <th></th>\n",
              "      <th></th>\n",
              "      <th></th>\n",
              "      <th></th>\n",
              "      <th></th>\n",
              "      <th></th>\n",
              "      <th></th>\n",
              "      <th></th>\n",
              "      <th></th>\n",
              "      <th></th>\n",
              "      <th></th>\n",
              "    </tr>\n",
              "  </thead>\n",
              "  <tbody>\n",
              "    <tr>\n",
              "      <th>A100UD67AHFODS</th>\n",
              "      <td>0.0</td>\n",
              "      <td>0.0</td>\n",
              "      <td>0.0</td>\n",
              "      <td>0.0</td>\n",
              "      <td>0.0</td>\n",
              "      <td>0.0</td>\n",
              "      <td>0.0</td>\n",
              "      <td>0.0</td>\n",
              "      <td>0.0</td>\n",
              "      <td>0.0</td>\n",
              "      <td>...</td>\n",
              "      <td>0.0</td>\n",
              "      <td>0.0</td>\n",
              "      <td>0.0</td>\n",
              "      <td>0.0</td>\n",
              "      <td>0.0</td>\n",
              "      <td>0.0</td>\n",
              "      <td>0.0</td>\n",
              "      <td>0.0</td>\n",
              "      <td>0.0</td>\n",
              "      <td>0.0</td>\n",
              "    </tr>\n",
              "    <tr>\n",
              "      <th>A100WO06OQR8BQ</th>\n",
              "      <td>0.0</td>\n",
              "      <td>0.0</td>\n",
              "      <td>0.0</td>\n",
              "      <td>0.0</td>\n",
              "      <td>0.0</td>\n",
              "      <td>0.0</td>\n",
              "      <td>0.0</td>\n",
              "      <td>0.0</td>\n",
              "      <td>0.0</td>\n",
              "      <td>0.0</td>\n",
              "      <td>...</td>\n",
              "      <td>0.0</td>\n",
              "      <td>0.0</td>\n",
              "      <td>0.0</td>\n",
              "      <td>0.0</td>\n",
              "      <td>0.0</td>\n",
              "      <td>0.0</td>\n",
              "      <td>0.0</td>\n",
              "      <td>0.0</td>\n",
              "      <td>0.0</td>\n",
              "      <td>0.0</td>\n",
              "    </tr>\n",
              "    <tr>\n",
              "      <th>A105S56ODHGJEK</th>\n",
              "      <td>0.0</td>\n",
              "      <td>0.0</td>\n",
              "      <td>0.0</td>\n",
              "      <td>0.0</td>\n",
              "      <td>0.0</td>\n",
              "      <td>0.0</td>\n",
              "      <td>0.0</td>\n",
              "      <td>0.0</td>\n",
              "      <td>0.0</td>\n",
              "      <td>0.0</td>\n",
              "      <td>...</td>\n",
              "      <td>0.0</td>\n",
              "      <td>0.0</td>\n",
              "      <td>0.0</td>\n",
              "      <td>0.0</td>\n",
              "      <td>0.0</td>\n",
              "      <td>0.0</td>\n",
              "      <td>0.0</td>\n",
              "      <td>0.0</td>\n",
              "      <td>0.0</td>\n",
              "      <td>0.0</td>\n",
              "    </tr>\n",
              "    <tr>\n",
              "      <th>A105TOJ6LTVMBG</th>\n",
              "      <td>0.0</td>\n",
              "      <td>0.0</td>\n",
              "      <td>0.0</td>\n",
              "      <td>0.0</td>\n",
              "      <td>0.0</td>\n",
              "      <td>0.0</td>\n",
              "      <td>0.0</td>\n",
              "      <td>0.0</td>\n",
              "      <td>0.0</td>\n",
              "      <td>0.0</td>\n",
              "      <td>...</td>\n",
              "      <td>0.0</td>\n",
              "      <td>0.0</td>\n",
              "      <td>0.0</td>\n",
              "      <td>0.0</td>\n",
              "      <td>0.0</td>\n",
              "      <td>0.0</td>\n",
              "      <td>0.0</td>\n",
              "      <td>0.0</td>\n",
              "      <td>0.0</td>\n",
              "      <td>0.0</td>\n",
              "    </tr>\n",
              "    <tr>\n",
              "      <th>A10AFVU66A79Y1</th>\n",
              "      <td>0.0</td>\n",
              "      <td>0.0</td>\n",
              "      <td>0.0</td>\n",
              "      <td>0.0</td>\n",
              "      <td>0.0</td>\n",
              "      <td>0.0</td>\n",
              "      <td>0.0</td>\n",
              "      <td>0.0</td>\n",
              "      <td>0.0</td>\n",
              "      <td>0.0</td>\n",
              "      <td>...</td>\n",
              "      <td>0.0</td>\n",
              "      <td>0.0</td>\n",
              "      <td>0.0</td>\n",
              "      <td>0.0</td>\n",
              "      <td>0.0</td>\n",
              "      <td>0.0</td>\n",
              "      <td>0.0</td>\n",
              "      <td>0.0</td>\n",
              "      <td>0.0</td>\n",
              "      <td>0.0</td>\n",
              "    </tr>\n",
              "  </tbody>\n",
              "</table>\n",
              "<p>5 rows × 48190 columns</p>\n",
              "</div>"
            ],
            "text/plain": [
              "prod_id         0594451647  0594481813  0970407998  0972683275  1400501466  \\\n",
              "user_id                                                                      \n",
              "A100UD67AHFODS         0.0         0.0         0.0         0.0         0.0   \n",
              "A100WO06OQR8BQ         0.0         0.0         0.0         0.0         0.0   \n",
              "A105S56ODHGJEK         0.0         0.0         0.0         0.0         0.0   \n",
              "A105TOJ6LTVMBG         0.0         0.0         0.0         0.0         0.0   \n",
              "A10AFVU66A79Y1         0.0         0.0         0.0         0.0         0.0   \n",
              "\n",
              "prod_id         1400501520  1400501776  1400532620  1400532655  140053271X  \\\n",
              "user_id                                                                      \n",
              "A100UD67AHFODS         0.0         0.0         0.0         0.0         0.0   \n",
              "A100WO06OQR8BQ         0.0         0.0         0.0         0.0         0.0   \n",
              "A105S56ODHGJEK         0.0         0.0         0.0         0.0         0.0   \n",
              "A105TOJ6LTVMBG         0.0         0.0         0.0         0.0         0.0   \n",
              "A10AFVU66A79Y1         0.0         0.0         0.0         0.0         0.0   \n",
              "\n",
              "prod_id         ...  B00L5YZCCG  B00L8I6SFY  B00L8QCVL6  B00LA6T0LS  \\\n",
              "user_id         ...                                                   \n",
              "A100UD67AHFODS  ...         0.0         0.0         0.0         0.0   \n",
              "A100WO06OQR8BQ  ...         0.0         0.0         0.0         0.0   \n",
              "A105S56ODHGJEK  ...         0.0         0.0         0.0         0.0   \n",
              "A105TOJ6LTVMBG  ...         0.0         0.0         0.0         0.0   \n",
              "A10AFVU66A79Y1  ...         0.0         0.0         0.0         0.0   \n",
              "\n",
              "prod_id         B00LBZ1Z7K  B00LED02VY  B00LGN7Y3G  B00LGQ6HL8  B00LI4ZZO8  \\\n",
              "user_id                                                                      \n",
              "A100UD67AHFODS         0.0         0.0         0.0         0.0         0.0   \n",
              "A100WO06OQR8BQ         0.0         0.0         0.0         0.0         0.0   \n",
              "A105S56ODHGJEK         0.0         0.0         0.0         0.0         0.0   \n",
              "A105TOJ6LTVMBG         0.0         0.0         0.0         0.0         0.0   \n",
              "A10AFVU66A79Y1         0.0         0.0         0.0         0.0         0.0   \n",
              "\n",
              "prod_id         B00LKG1MC8  \n",
              "user_id                     \n",
              "A100UD67AHFODS         0.0  \n",
              "A100WO06OQR8BQ         0.0  \n",
              "A105S56ODHGJEK         0.0  \n",
              "A105TOJ6LTVMBG         0.0  \n",
              "A10AFVU66A79Y1         0.0  \n",
              "\n",
              "[5 rows x 48190 columns]"
            ]
          },
          "execution_count": 25,
          "metadata": {},
          "output_type": "execute_result"
        }
      ],
      "source": [
        "#Creating the interaction matrix of products and users based on ratings and replacing NaN value with 0\n",
        "final_ratings_matrix = df_final.pivot(index = 'user_id', columns ='prod_id', values = 'rating').fillna(0)\n",
        "print('Shape of final_ratings_matrix: ', final_ratings_matrix.shape)\n",
        "\n",
        "#Finding the number of non-zero entries in the interaction matrix \n",
        "given_num_of_ratings = np.count_nonzero(final_ratings_matrix)\n",
        "print('given_num_of_ratings = ', given_num_of_ratings)\n",
        "\n",
        "#Finding the possible number of ratings as per the number of users and products\n",
        "possible_num_of_ratings = final_ratings_matrix.shape[0] * final_ratings_matrix.shape[1]\n",
        "print('possible_num_of_ratings = ', possible_num_of_ratings)\n",
        "\n",
        "#Density of ratings\n",
        "density = (given_num_of_ratings/possible_num_of_ratings)\n",
        "density *= 100\n",
        "print ('density: {:4.2f}%'.format(density))\n",
        "\n",
        "final_ratings_matrix.head()"
      ]
    },
    {
      "cell_type": "code",
      "execution_count": 26,
      "metadata": {},
      "outputs": [],
      "source": [
        "from scipy.sparse import csr_matrix\n",
        "final_ratings_sparse = csr_matrix(final_ratings_matrix.values)"
      ]
    },
    {
      "cell_type": "code",
      "execution_count": 27,
      "metadata": {},
      "outputs": [],
      "source": [
        "# Singular Value Decomposition\n",
        "U, s, Vt = svds(final_ratings_sparse, k = 50) # here k is the number of latent features\n",
        "\n",
        "# Construct diagonal array in SVD\n",
        "sigma = np.diag(s)"
      ]
    },
    {
      "cell_type": "code",
      "execution_count": 28,
      "metadata": {},
      "outputs": [],
      "source": [
        "all_user_predicted_ratings = np.dot(np.dot(U, sigma), Vt) \n",
        "\n",
        "# Predicted ratings\n",
        "preds_df = pd.DataFrame(abs(all_user_predicted_ratings), columns = final_ratings_matrix.columns)\n",
        "preds_df.head()\n",
        "preds_matrix = csr_matrix(preds_df.values)"
      ]
    },
    {
      "cell_type": "code",
      "execution_count": 29,
      "metadata": {},
      "outputs": [
        {
          "data": {
            "text/html": [
              "<div>\n",
              "<style scoped>\n",
              "    .dataframe tbody tr th:only-of-type {\n",
              "        vertical-align: middle;\n",
              "    }\n",
              "\n",
              "    .dataframe tbody tr th {\n",
              "        vertical-align: top;\n",
              "    }\n",
              "\n",
              "    .dataframe thead th {\n",
              "        text-align: right;\n",
              "    }\n",
              "</style>\n",
              "<table border=\"1\" class=\"dataframe\">\n",
              "  <thead>\n",
              "    <tr style=\"text-align: right;\">\n",
              "      <th>prod_id</th>\n",
              "      <th>0594451647</th>\n",
              "      <th>0594481813</th>\n",
              "      <th>0970407998</th>\n",
              "      <th>0972683275</th>\n",
              "      <th>1400501466</th>\n",
              "      <th>1400501520</th>\n",
              "      <th>1400501776</th>\n",
              "      <th>1400532620</th>\n",
              "      <th>1400532655</th>\n",
              "      <th>140053271X</th>\n",
              "      <th>...</th>\n",
              "      <th>B00L5YZCCG</th>\n",
              "      <th>B00L8I6SFY</th>\n",
              "      <th>B00L8QCVL6</th>\n",
              "      <th>B00LA6T0LS</th>\n",
              "      <th>B00LBZ1Z7K</th>\n",
              "      <th>B00LED02VY</th>\n",
              "      <th>B00LGN7Y3G</th>\n",
              "      <th>B00LGQ6HL8</th>\n",
              "      <th>B00LI4ZZO8</th>\n",
              "      <th>B00LKG1MC8</th>\n",
              "    </tr>\n",
              "  </thead>\n",
              "  <tbody>\n",
              "    <tr>\n",
              "      <th>0</th>\n",
              "      <td>0.005086</td>\n",
              "      <td>0.002178</td>\n",
              "      <td>0.003668</td>\n",
              "      <td>0.040843</td>\n",
              "      <td>0.009640</td>\n",
              "      <td>0.006808</td>\n",
              "      <td>0.020659</td>\n",
              "      <td>0.000649</td>\n",
              "      <td>0.020331</td>\n",
              "      <td>0.005633</td>\n",
              "      <td>...</td>\n",
              "      <td>0.000238</td>\n",
              "      <td>0.061477</td>\n",
              "      <td>0.001214</td>\n",
              "      <td>0.123433</td>\n",
              "      <td>0.028490</td>\n",
              "      <td>0.016109</td>\n",
              "      <td>0.002855</td>\n",
              "      <td>0.174568</td>\n",
              "      <td>0.011367</td>\n",
              "      <td>0.012997</td>\n",
              "    </tr>\n",
              "    <tr>\n",
              "      <th>1</th>\n",
              "      <td>0.002286</td>\n",
              "      <td>0.010898</td>\n",
              "      <td>0.000724</td>\n",
              "      <td>0.130259</td>\n",
              "      <td>0.007506</td>\n",
              "      <td>0.003350</td>\n",
              "      <td>0.063711</td>\n",
              "      <td>0.000674</td>\n",
              "      <td>0.016111</td>\n",
              "      <td>0.002433</td>\n",
              "      <td>...</td>\n",
              "      <td>0.000038</td>\n",
              "      <td>0.013766</td>\n",
              "      <td>0.001473</td>\n",
              "      <td>0.025588</td>\n",
              "      <td>0.042103</td>\n",
              "      <td>0.004251</td>\n",
              "      <td>0.002177</td>\n",
              "      <td>0.024362</td>\n",
              "      <td>0.014765</td>\n",
              "      <td>0.038570</td>\n",
              "    </tr>\n",
              "    <tr>\n",
              "      <th>2</th>\n",
              "      <td>0.001655</td>\n",
              "      <td>0.002675</td>\n",
              "      <td>0.007355</td>\n",
              "      <td>0.007264</td>\n",
              "      <td>0.005152</td>\n",
              "      <td>0.003986</td>\n",
              "      <td>0.003480</td>\n",
              "      <td>0.006961</td>\n",
              "      <td>0.006606</td>\n",
              "      <td>0.002719</td>\n",
              "      <td>...</td>\n",
              "      <td>0.001708</td>\n",
              "      <td>0.051040</td>\n",
              "      <td>0.000325</td>\n",
              "      <td>0.054867</td>\n",
              "      <td>0.017870</td>\n",
              "      <td>0.004996</td>\n",
              "      <td>0.002426</td>\n",
              "      <td>0.083928</td>\n",
              "      <td>0.112205</td>\n",
              "      <td>0.005964</td>\n",
              "    </tr>\n",
              "    <tr>\n",
              "      <th>3</th>\n",
              "      <td>0.001856</td>\n",
              "      <td>0.011019</td>\n",
              "      <td>0.005910</td>\n",
              "      <td>0.014134</td>\n",
              "      <td>0.000179</td>\n",
              "      <td>0.001877</td>\n",
              "      <td>0.005391</td>\n",
              "      <td>0.001709</td>\n",
              "      <td>0.004968</td>\n",
              "      <td>0.001402</td>\n",
              "      <td>...</td>\n",
              "      <td>0.000582</td>\n",
              "      <td>0.009326</td>\n",
              "      <td>0.000465</td>\n",
              "      <td>0.048315</td>\n",
              "      <td>0.023302</td>\n",
              "      <td>0.006790</td>\n",
              "      <td>0.003380</td>\n",
              "      <td>0.005460</td>\n",
              "      <td>0.015263</td>\n",
              "      <td>0.025996</td>\n",
              "    </tr>\n",
              "    <tr>\n",
              "      <th>4</th>\n",
              "      <td>0.001115</td>\n",
              "      <td>0.002670</td>\n",
              "      <td>0.011018</td>\n",
              "      <td>0.014434</td>\n",
              "      <td>0.010319</td>\n",
              "      <td>0.006002</td>\n",
              "      <td>0.017151</td>\n",
              "      <td>0.003726</td>\n",
              "      <td>0.001404</td>\n",
              "      <td>0.005645</td>\n",
              "      <td>...</td>\n",
              "      <td>0.000207</td>\n",
              "      <td>0.023761</td>\n",
              "      <td>0.000747</td>\n",
              "      <td>0.019347</td>\n",
              "      <td>0.012749</td>\n",
              "      <td>0.001026</td>\n",
              "      <td>0.001364</td>\n",
              "      <td>0.020580</td>\n",
              "      <td>0.011828</td>\n",
              "      <td>0.012770</td>\n",
              "    </tr>\n",
              "  </tbody>\n",
              "</table>\n",
              "<p>5 rows × 48190 columns</p>\n",
              "</div>"
            ],
            "text/plain": [
              "prod_id  0594451647  0594481813  0970407998  0972683275  1400501466  \\\n",
              "0          0.005086    0.002178    0.003668    0.040843    0.009640   \n",
              "1          0.002286    0.010898    0.000724    0.130259    0.007506   \n",
              "2          0.001655    0.002675    0.007355    0.007264    0.005152   \n",
              "3          0.001856    0.011019    0.005910    0.014134    0.000179   \n",
              "4          0.001115    0.002670    0.011018    0.014434    0.010319   \n",
              "\n",
              "prod_id  1400501520  1400501776  1400532620  1400532655  140053271X  ...  \\\n",
              "0          0.006808    0.020659    0.000649    0.020331    0.005633  ...   \n",
              "1          0.003350    0.063711    0.000674    0.016111    0.002433  ...   \n",
              "2          0.003986    0.003480    0.006961    0.006606    0.002719  ...   \n",
              "3          0.001877    0.005391    0.001709    0.004968    0.001402  ...   \n",
              "4          0.006002    0.017151    0.003726    0.001404    0.005645  ...   \n",
              "\n",
              "prod_id  B00L5YZCCG  B00L8I6SFY  B00L8QCVL6  B00LA6T0LS  B00LBZ1Z7K  \\\n",
              "0          0.000238    0.061477    0.001214    0.123433    0.028490   \n",
              "1          0.000038    0.013766    0.001473    0.025588    0.042103   \n",
              "2          0.001708    0.051040    0.000325    0.054867    0.017870   \n",
              "3          0.000582    0.009326    0.000465    0.048315    0.023302   \n",
              "4          0.000207    0.023761    0.000747    0.019347    0.012749   \n",
              "\n",
              "prod_id  B00LED02VY  B00LGN7Y3G  B00LGQ6HL8  B00LI4ZZO8  B00LKG1MC8  \n",
              "0          0.016109    0.002855    0.174568    0.011367    0.012997  \n",
              "1          0.004251    0.002177    0.024362    0.014765    0.038570  \n",
              "2          0.004996    0.002426    0.083928    0.112205    0.005964  \n",
              "3          0.006790    0.003380    0.005460    0.015263    0.025996  \n",
              "4          0.001026    0.001364    0.020580    0.011828    0.012770  \n",
              "\n",
              "[5 rows x 48190 columns]"
            ]
          },
          "execution_count": 29,
          "metadata": {},
          "output_type": "execute_result"
        }
      ],
      "source": [
        "preds_df.head()"
      ]
    },
    {
      "cell_type": "code",
      "execution_count": 30,
      "metadata": {},
      "outputs": [
        {
          "data": {
            "text/plain": [
              "prod_id\n",
              "0594451647    0.003360\n",
              "0594481813    0.005729\n",
              "0970407998    0.008566\n",
              "0972683275    0.035330\n",
              "1400501466    0.006966\n",
              "dtype: float64"
            ]
          },
          "execution_count": 30,
          "metadata": {},
          "output_type": "execute_result"
        }
      ],
      "source": [
        "avg_preds=preds_df.mean()\n",
        "avg_preds.head()"
      ]
    },
    {
      "cell_type": "code",
      "execution_count": 31,
      "metadata": {},
      "outputs": [
        {
          "data": {
            "text/html": [
              "<div>\n",
              "<style scoped>\n",
              "    .dataframe tbody tr th:only-of-type {\n",
              "        vertical-align: middle;\n",
              "    }\n",
              "\n",
              "    .dataframe tbody tr th {\n",
              "        vertical-align: top;\n",
              "    }\n",
              "\n",
              "    .dataframe thead th {\n",
              "        text-align: right;\n",
              "    }\n",
              "</style>\n",
              "<table border=\"1\" class=\"dataframe\">\n",
              "  <thead>\n",
              "    <tr style=\"text-align: right;\">\n",
              "      <th></th>\n",
              "      <th>Avg_actual_ratings</th>\n",
              "      <th>Avg_predicted_ratings</th>\n",
              "    </tr>\n",
              "    <tr>\n",
              "      <th>prod_id</th>\n",
              "      <th></th>\n",
              "      <th></th>\n",
              "    </tr>\n",
              "  </thead>\n",
              "  <tbody>\n",
              "    <tr>\n",
              "      <th>0594451647</th>\n",
              "      <td>0.003247</td>\n",
              "      <td>0.003360</td>\n",
              "    </tr>\n",
              "    <tr>\n",
              "      <th>0594481813</th>\n",
              "      <td>0.001948</td>\n",
              "      <td>0.005729</td>\n",
              "    </tr>\n",
              "    <tr>\n",
              "      <th>0970407998</th>\n",
              "      <td>0.003247</td>\n",
              "      <td>0.008566</td>\n",
              "    </tr>\n",
              "    <tr>\n",
              "      <th>0972683275</th>\n",
              "      <td>0.012338</td>\n",
              "      <td>0.035330</td>\n",
              "    </tr>\n",
              "    <tr>\n",
              "      <th>1400501466</th>\n",
              "      <td>0.012987</td>\n",
              "      <td>0.006966</td>\n",
              "    </tr>\n",
              "  </tbody>\n",
              "</table>\n",
              "</div>"
            ],
            "text/plain": [
              "            Avg_actual_ratings  Avg_predicted_ratings\n",
              "prod_id                                              \n",
              "0594451647            0.003247               0.003360\n",
              "0594481813            0.001948               0.005729\n",
              "0970407998            0.003247               0.008566\n",
              "0972683275            0.012338               0.035330\n",
              "1400501466            0.012987               0.006966"
            ]
          },
          "execution_count": 31,
          "metadata": {},
          "output_type": "execute_result"
        }
      ],
      "source": [
        "rmse_df = pd.concat([average_rating, avg_preds], axis=1)\n",
        "\n",
        "rmse_df.columns = ['Avg_actual_ratings', 'Avg_predicted_ratings']\n",
        "\n",
        "rmse_df.head()"
      ]
    },
    {
      "cell_type": "code",
      "execution_count": 32,
      "metadata": {},
      "outputs": [
        {
          "name": "stdout",
          "output_type": "stream",
          "text": [
            "RMSE SVD Model = 0.013679389779858 \n",
            "\n"
          ]
        }
      ],
      "source": [
        "RMSE=mean_squared_error(rmse_df['Avg_actual_ratings'], rmse_df['Avg_predicted_ratings'], squared=False)\n",
        "print(f'RMSE SVD Model = {RMSE} \\n')"
      ]
    }
  ],
  "metadata": {
    "accelerator": "GPU",
    "colab": {
      "authorship_tag": "ABX9TyPPw+ygDGjpR7Vp9QX150PP",
      "collapsed_sections": [
        "7dzfbm7tw1YJ"
      ],
      "gpuType": "T4",
      "include_colab_link": true,
      "mount_file_id": "1Zin3TuHLmuOAkQ5OkcqRmRT8xRfoE2a4",
      "provenance": []
    },
    "gpuClass": "standard",
    "kernelspec": {
      "display_name": "Python 3",
      "name": "python3"
    },
    "language_info": {
      "codemirror_mode": {
        "name": "ipython",
        "version": 3
      },
      "file_extension": ".py",
      "mimetype": "text/x-python",
      "name": "python",
      "nbconvert_exporter": "python",
      "pygments_lexer": "ipython3",
      "version": "3.10.12"
    }
  },
  "nbformat": 4,
  "nbformat_minor": 0
}
