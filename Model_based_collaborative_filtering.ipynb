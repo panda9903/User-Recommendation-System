{
  "cells": [
    {
      "cell_type": "markdown",
      "metadata": {},
      "source": [
        "# User Recommendation System"
      ]
    },
    {
      "cell_type": "code",
      "execution_count": 1,
      "metadata": {
        "id": "2tSOMad1mlsK"
      },
      "outputs": [],
      "source": [
        "import warnings\n",
        "warnings.filterwarnings('ignore')\n",
        "\n",
        "import numpy as np\n",
        "import pandas as pd\n",
        "\n",
        "import matplotlib.pyplot as plt\n",
        "import seaborn as sns\n",
        "\n",
        "from sklearn.metrics.pairwise import cosine_similarity\n",
        "\n",
        "from sklearn.metrics import mean_squared_error\n",
        "\n",
        "from scipy.sparse.linalg import svds # for sparse matrices"
      ]
    },
    {
      "cell_type": "markdown",
      "metadata": {
        "id": "_eRqhkyAmvFJ"
      },
      "source": [
        "## Importing Dataset"
      ]
    },
    {
      "cell_type": "code",
      "execution_count": 2,
      "metadata": {
        "id": "mnM0NIFemhh0"
      },
      "outputs": [],
      "source": [
        "df = pd.read_csv('./ratings_Electronics.csv', header=None) # Reading CSV\n",
        "df.columns = ['user_id', 'prod_id', 'rating', 'timestamp'] # Adding column names\n",
        "df = df.drop('timestamp', axis=1) # Removing timestamps as unnecessary\n",
        "df_copy = df.copy(deep=True) #Creating a copy"
      ]
    },
    {
      "cell_type": "markdown",
      "metadata": {},
      "source": [
        "# Exploratory Data Analysis"
      ]
    },
    {
      "cell_type": "code",
      "execution_count": 28,
      "metadata": {},
      "outputs": [
        {
          "data": {
            "text/plain": [
              "'A39J1PTX1KAL66'"
            ]
          },
          "execution_count": 28,
          "metadata": {},
          "output_type": "execute_result"
        }
      ],
      "source": [
        "df['user_id'][100]"
      ]
    },
    {
      "cell_type": "code",
      "execution_count": 3,
      "metadata": {
        "colab": {
          "base_uri": "https://localhost:8080/"
        },
        "id": "BR0rkn1hm5Ii",
        "outputId": "b725b51e-a8d4-4786-c853-aaeb70a2da9b"
      },
      "outputs": [
        {
          "name": "stdout",
          "output_type": "stream",
          "text": [
            "No of rows =  7824482\n",
            "No of columns =  3\n"
          ]
        }
      ],
      "source": [
        "rows, columns = df.shape\n",
        "print(\"No of rows = \", rows)\n",
        "print(\"No of columns = \", columns)"
      ]
    },
    {
      "cell_type": "code",
      "execution_count": 6,
      "metadata": {
        "colab": {
          "base_uri": "https://localhost:8080/"
        },
        "id": "GykhgQNpnLB4",
        "outputId": "aee57776-f225-40d5-a337-f4ccf182a966"
      },
      "outputs": [
        {
          "data": {
            "text/plain": [
              "count    7.824482e+06\n",
              "mean     4.012337e+00\n",
              "std      1.380910e+00\n",
              "min      1.000000e+00\n",
              "25%      3.000000e+00\n",
              "50%      5.000000e+00\n",
              "75%      5.000000e+00\n",
              "max      5.000000e+00\n",
              "Name: rating, dtype: float64"
            ]
          },
          "execution_count": 6,
          "metadata": {},
          "output_type": "execute_result"
        }
      ],
      "source": [
        "# Summary statistics of 'rating' variable\n",
        "df['rating'].describe()"
      ]
    },
    {
      "cell_type": "markdown",
      "metadata": {
        "id": "_hoBfcSmncDJ"
      },
      "source": [
        "### No of unique users and items"
      ]
    },
    {
      "cell_type": "code",
      "execution_count": 8,
      "metadata": {
        "colab": {
          "base_uri": "https://localhost:8080/"
        },
        "id": "bTzXXqwrnZKh",
        "outputId": "f6dac2c0-588d-49d8-c760-258a049341aa"
      },
      "outputs": [
        {
          "name": "stdout",
          "output_type": "stream",
          "text": [
            "Number of unique USERS in Raw data =  4201696\n",
            "Number of unique ITEMS in Raw data =  476002\n"
          ]
        }
      ],
      "source": [
        "# Number of unique user id and product id in the data\n",
        "print('Number of unique USERS in Raw data = ', df['user_id'].nunique())\n",
        "print('Number of unique ITEMS in Raw data = ', df['prod_id'].nunique())"
      ]
    },
    {
      "cell_type": "markdown",
      "metadata": {
        "id": "PhOahvbHnkZJ"
      },
      "source": [
        "### Users with most no of rating"
      ]
    },
    {
      "cell_type": "code",
      "execution_count": 9,
      "metadata": {
        "colab": {
          "base_uri": "https://localhost:8080/"
        },
        "id": "DZ80koFAngO4",
        "outputId": "45ec9525-fff5-4dbc-8319-43cbbc5df884"
      },
      "outputs": [
        {
          "data": {
            "text/plain": [
              "user_id\n",
              "A5JLAU2ARJ0BO     520\n",
              "ADLVFFE4VBT8      501\n",
              "A3OXHLG6DIBRW8    498\n",
              "A6FIAB28IS79      431\n",
              "A680RUE1FDO8B     406\n",
              "A1ODOGXEYECQQ8    380\n",
              "A36K2N527TXXJN    314\n",
              "A2AY4YUOX2N1BQ    311\n",
              "AWPODHOB4GFWL     308\n",
              "A25C2M3QF9G7OQ    296\n",
              "dtype: int64"
            ]
          },
          "execution_count": 9,
          "metadata": {},
          "output_type": "execute_result"
        }
      ],
      "source": [
        "# Top 10 users based on rating\n",
        "most_rated = df.groupby('user_id').size().sort_values(ascending=False)[:10]\n",
        "most_rated"
      ]
    },
    {
      "cell_type": "markdown",
      "metadata": {
        "id": "ekGg2mL5oaNA"
      },
      "source": [
        "## Pre-Processing\n",
        "\n",
        "Let's take a subset of the dataset (by only keeping the users who have given 50 or more ratings) to make the dataset less sparse and easy to work with."
      ]
    },
    {
      "cell_type": "code",
      "execution_count": 10,
      "metadata": {
        "id": "k3T1weHIodDw"
      },
      "outputs": [],
      "source": [
        "counts = df['user_id'].value_counts()\n",
        "df_final = df[df['user_id'].isin(counts[counts >= 50].index)]"
      ]
    },
    {
      "cell_type": "code",
      "execution_count": 11,
      "metadata": {
        "colab": {
          "base_uri": "https://localhost:8080/"
        },
        "id": "KDnxTiwUordB",
        "outputId": "24eb9a76-ec91-46e9-92b7-397d4adaa25f"
      },
      "outputs": [
        {
          "name": "stdout",
          "output_type": "stream",
          "text": [
            "The number of observations in the final data = 125871\n",
            "Number of unique USERS in the final data =  1540\n",
            "Number of unique PRODUCTS in the final data =  48190\n"
          ]
        }
      ],
      "source": [
        "print('The number of observations in the final data =', len(df_final))\n",
        "print('Number of unique USERS in the final data = ', df_final['user_id'].nunique())\n",
        "print('Number of unique PRODUCTS in the final data = ', df_final['prod_id'].nunique())"
      ]
    },
    {
      "cell_type": "markdown",
      "metadata": {
        "id": "tsmGpFwqocrg"
      },
      "source": [
        "- The dataframe **df_final has users who have rated 50 or more items**\n",
        "- **We will use df_final to build recommendation systems**"
      ]
    },
    {
      "cell_type": "markdown",
      "metadata": {
        "id": "k6t4Ee-Oo0vD"
      },
      "source": [
        "### Checking the density of the rating matrix"
      ]
    },
    {
      "cell_type": "code",
      "execution_count": 12,
      "metadata": {
        "colab": {
          "base_uri": "https://localhost:8080/",
          "height": 400
        },
        "id": "Q3kGwNuyoxiR",
        "outputId": "d67b95ea-2336-4268-b89b-044fc329ef85"
      },
      "outputs": [
        {
          "name": "stdout",
          "output_type": "stream",
          "text": [
            "Shape of final_ratings_matrix:  (1540, 48190)\n",
            "given_num_of_ratings =  125871\n",
            "possible_num_of_ratings =  74212600\n",
            "density: 0.17%\n"
          ]
        },
        {
          "data": {
            "text/html": [
              "<div>\n",
              "<style scoped>\n",
              "    .dataframe tbody tr th:only-of-type {\n",
              "        vertical-align: middle;\n",
              "    }\n",
              "\n",
              "    .dataframe tbody tr th {\n",
              "        vertical-align: top;\n",
              "    }\n",
              "\n",
              "    .dataframe thead th {\n",
              "        text-align: right;\n",
              "    }\n",
              "</style>\n",
              "<table border=\"1\" class=\"dataframe\">\n",
              "  <thead>\n",
              "    <tr style=\"text-align: right;\">\n",
              "      <th>prod_id</th>\n",
              "      <th>0594451647</th>\n",
              "      <th>0594481813</th>\n",
              "      <th>0970407998</th>\n",
              "      <th>0972683275</th>\n",
              "      <th>1400501466</th>\n",
              "      <th>1400501520</th>\n",
              "      <th>1400501776</th>\n",
              "      <th>1400532620</th>\n",
              "      <th>1400532655</th>\n",
              "      <th>140053271X</th>\n",
              "      <th>...</th>\n",
              "      <th>B00L5YZCCG</th>\n",
              "      <th>B00L8I6SFY</th>\n",
              "      <th>B00L8QCVL6</th>\n",
              "      <th>B00LA6T0LS</th>\n",
              "      <th>B00LBZ1Z7K</th>\n",
              "      <th>B00LED02VY</th>\n",
              "      <th>B00LGN7Y3G</th>\n",
              "      <th>B00LGQ6HL8</th>\n",
              "      <th>B00LI4ZZO8</th>\n",
              "      <th>B00LKG1MC8</th>\n",
              "    </tr>\n",
              "    <tr>\n",
              "      <th>user_id</th>\n",
              "      <th></th>\n",
              "      <th></th>\n",
              "      <th></th>\n",
              "      <th></th>\n",
              "      <th></th>\n",
              "      <th></th>\n",
              "      <th></th>\n",
              "      <th></th>\n",
              "      <th></th>\n",
              "      <th></th>\n",
              "      <th></th>\n",
              "      <th></th>\n",
              "      <th></th>\n",
              "      <th></th>\n",
              "      <th></th>\n",
              "      <th></th>\n",
              "      <th></th>\n",
              "      <th></th>\n",
              "      <th></th>\n",
              "      <th></th>\n",
              "      <th></th>\n",
              "    </tr>\n",
              "  </thead>\n",
              "  <tbody>\n",
              "    <tr>\n",
              "      <th>A100UD67AHFODS</th>\n",
              "      <td>0.0</td>\n",
              "      <td>0.0</td>\n",
              "      <td>0.0</td>\n",
              "      <td>0.0</td>\n",
              "      <td>0.0</td>\n",
              "      <td>0.0</td>\n",
              "      <td>0.0</td>\n",
              "      <td>0.0</td>\n",
              "      <td>0.0</td>\n",
              "      <td>0.0</td>\n",
              "      <td>...</td>\n",
              "      <td>0.0</td>\n",
              "      <td>0.0</td>\n",
              "      <td>0.0</td>\n",
              "      <td>0.0</td>\n",
              "      <td>0.0</td>\n",
              "      <td>0.0</td>\n",
              "      <td>0.0</td>\n",
              "      <td>0.0</td>\n",
              "      <td>0.0</td>\n",
              "      <td>0.0</td>\n",
              "    </tr>\n",
              "    <tr>\n",
              "      <th>A100WO06OQR8BQ</th>\n",
              "      <td>0.0</td>\n",
              "      <td>0.0</td>\n",
              "      <td>0.0</td>\n",
              "      <td>0.0</td>\n",
              "      <td>0.0</td>\n",
              "      <td>0.0</td>\n",
              "      <td>0.0</td>\n",
              "      <td>0.0</td>\n",
              "      <td>0.0</td>\n",
              "      <td>0.0</td>\n",
              "      <td>...</td>\n",
              "      <td>0.0</td>\n",
              "      <td>0.0</td>\n",
              "      <td>0.0</td>\n",
              "      <td>0.0</td>\n",
              "      <td>0.0</td>\n",
              "      <td>0.0</td>\n",
              "      <td>0.0</td>\n",
              "      <td>0.0</td>\n",
              "      <td>0.0</td>\n",
              "      <td>0.0</td>\n",
              "    </tr>\n",
              "    <tr>\n",
              "      <th>A105S56ODHGJEK</th>\n",
              "      <td>0.0</td>\n",
              "      <td>0.0</td>\n",
              "      <td>0.0</td>\n",
              "      <td>0.0</td>\n",
              "      <td>0.0</td>\n",
              "      <td>0.0</td>\n",
              "      <td>0.0</td>\n",
              "      <td>0.0</td>\n",
              "      <td>0.0</td>\n",
              "      <td>0.0</td>\n",
              "      <td>...</td>\n",
              "      <td>0.0</td>\n",
              "      <td>0.0</td>\n",
              "      <td>0.0</td>\n",
              "      <td>0.0</td>\n",
              "      <td>0.0</td>\n",
              "      <td>0.0</td>\n",
              "      <td>0.0</td>\n",
              "      <td>0.0</td>\n",
              "      <td>0.0</td>\n",
              "      <td>0.0</td>\n",
              "    </tr>\n",
              "    <tr>\n",
              "      <th>A105TOJ6LTVMBG</th>\n",
              "      <td>0.0</td>\n",
              "      <td>0.0</td>\n",
              "      <td>0.0</td>\n",
              "      <td>0.0</td>\n",
              "      <td>0.0</td>\n",
              "      <td>0.0</td>\n",
              "      <td>0.0</td>\n",
              "      <td>0.0</td>\n",
              "      <td>0.0</td>\n",
              "      <td>0.0</td>\n",
              "      <td>...</td>\n",
              "      <td>0.0</td>\n",
              "      <td>0.0</td>\n",
              "      <td>0.0</td>\n",
              "      <td>0.0</td>\n",
              "      <td>0.0</td>\n",
              "      <td>0.0</td>\n",
              "      <td>0.0</td>\n",
              "      <td>0.0</td>\n",
              "      <td>0.0</td>\n",
              "      <td>0.0</td>\n",
              "    </tr>\n",
              "    <tr>\n",
              "      <th>A10AFVU66A79Y1</th>\n",
              "      <td>0.0</td>\n",
              "      <td>0.0</td>\n",
              "      <td>0.0</td>\n",
              "      <td>0.0</td>\n",
              "      <td>0.0</td>\n",
              "      <td>0.0</td>\n",
              "      <td>0.0</td>\n",
              "      <td>0.0</td>\n",
              "      <td>0.0</td>\n",
              "      <td>0.0</td>\n",
              "      <td>...</td>\n",
              "      <td>0.0</td>\n",
              "      <td>0.0</td>\n",
              "      <td>0.0</td>\n",
              "      <td>0.0</td>\n",
              "      <td>0.0</td>\n",
              "      <td>0.0</td>\n",
              "      <td>0.0</td>\n",
              "      <td>0.0</td>\n",
              "      <td>0.0</td>\n",
              "      <td>0.0</td>\n",
              "    </tr>\n",
              "  </tbody>\n",
              "</table>\n",
              "<p>5 rows × 48190 columns</p>\n",
              "</div>"
            ],
            "text/plain": [
              "prod_id         0594451647  0594481813  0970407998  0972683275  1400501466  \\\n",
              "user_id                                                                      \n",
              "A100UD67AHFODS         0.0         0.0         0.0         0.0         0.0   \n",
              "A100WO06OQR8BQ         0.0         0.0         0.0         0.0         0.0   \n",
              "A105S56ODHGJEK         0.0         0.0         0.0         0.0         0.0   \n",
              "A105TOJ6LTVMBG         0.0         0.0         0.0         0.0         0.0   \n",
              "A10AFVU66A79Y1         0.0         0.0         0.0         0.0         0.0   \n",
              "\n",
              "prod_id         1400501520  1400501776  1400532620  1400532655  140053271X  \\\n",
              "user_id                                                                      \n",
              "A100UD67AHFODS         0.0         0.0         0.0         0.0         0.0   \n",
              "A100WO06OQR8BQ         0.0         0.0         0.0         0.0         0.0   \n",
              "A105S56ODHGJEK         0.0         0.0         0.0         0.0         0.0   \n",
              "A105TOJ6LTVMBG         0.0         0.0         0.0         0.0         0.0   \n",
              "A10AFVU66A79Y1         0.0         0.0         0.0         0.0         0.0   \n",
              "\n",
              "prod_id         ...  B00L5YZCCG  B00L8I6SFY  B00L8QCVL6  B00LA6T0LS  \\\n",
              "user_id         ...                                                   \n",
              "A100UD67AHFODS  ...         0.0         0.0         0.0         0.0   \n",
              "A100WO06OQR8BQ  ...         0.0         0.0         0.0         0.0   \n",
              "A105S56ODHGJEK  ...         0.0         0.0         0.0         0.0   \n",
              "A105TOJ6LTVMBG  ...         0.0         0.0         0.0         0.0   \n",
              "A10AFVU66A79Y1  ...         0.0         0.0         0.0         0.0   \n",
              "\n",
              "prod_id         B00LBZ1Z7K  B00LED02VY  B00LGN7Y3G  B00LGQ6HL8  B00LI4ZZO8  \\\n",
              "user_id                                                                      \n",
              "A100UD67AHFODS         0.0         0.0         0.0         0.0         0.0   \n",
              "A100WO06OQR8BQ         0.0         0.0         0.0         0.0         0.0   \n",
              "A105S56ODHGJEK         0.0         0.0         0.0         0.0         0.0   \n",
              "A105TOJ6LTVMBG         0.0         0.0         0.0         0.0         0.0   \n",
              "A10AFVU66A79Y1         0.0         0.0         0.0         0.0         0.0   \n",
              "\n",
              "prod_id         B00LKG1MC8  \n",
              "user_id                     \n",
              "A100UD67AHFODS         0.0  \n",
              "A100WO06OQR8BQ         0.0  \n",
              "A105S56ODHGJEK         0.0  \n",
              "A105TOJ6LTVMBG         0.0  \n",
              "A10AFVU66A79Y1         0.0  \n",
              "\n",
              "[5 rows x 48190 columns]"
            ]
          },
          "execution_count": 12,
          "metadata": {},
          "output_type": "execute_result"
        }
      ],
      "source": [
        "#Creating the interaction matrix of products and users based on ratings and replacing NaN value with 0\n",
        "final_ratings_matrix = df_final.pivot(index = 'user_id', columns ='prod_id', values = 'rating').fillna(0)\n",
        "print('Shape of final_ratings_matrix: ', final_ratings_matrix.shape)\n",
        "\n",
        "#Finding the number of non-zero entries in the interaction matrix \n",
        "given_num_of_ratings = np.count_nonzero(final_ratings_matrix)\n",
        "print('given_num_of_ratings = ', given_num_of_ratings)\n",
        "\n",
        "#Finding the possible number of ratings as per the number of users and products\n",
        "possible_num_of_ratings = final_ratings_matrix.shape[0] * final_ratings_matrix.shape[1]\n",
        "print('possible_num_of_ratings = ', possible_num_of_ratings)\n",
        "\n",
        "#Density of ratings\n",
        "density = (given_num_of_ratings/possible_num_of_ratings)\n",
        "density *= 100\n",
        "print ('density: {:4.2f}%'.format(density))\n",
        "\n",
        "final_ratings_matrix.head()"
      ]
    },
    {
      "cell_type": "markdown",
      "metadata": {
        "id": "B9fOdRwUdbKa"
      },
      "source": [
        "# Model based Collaborative Filtering: Singular Value Decomposition \n",
        "\n",
        "**We have seen above that the interaction matrix is highly sparse. SVD is best to apply on a large sparse matrix. Note that for sparse matrices, we can use the sparse.linalg.svds() function to perform the decomposition**\n",
        "\n",
        "Also, we will use **k=50 latent features** to predict rating of products"
      ]
    },
    {
      "cell_type": "markdown",
      "metadata": {
        "id": "RXgHZdNYmoKD"
      },
      "source": [
        "## CSR matrix"
      ]
    },
    {
      "cell_type": "code",
      "execution_count": 13,
      "metadata": {
        "id": "6yHPX6rkfeY8"
      },
      "outputs": [],
      "source": [
        "from scipy.sparse import csr_matrix\n",
        "final_ratings_sparse = csr_matrix(final_ratings_matrix.values)\n"
      ]
    },
    {
      "cell_type": "markdown",
      "metadata": {
        "id": "K2oQ3Fjlmrs7"
      },
      "source": [
        "## SVD"
      ]
    },
    {
      "cell_type": "code",
      "execution_count": 14,
      "metadata": {
        "id": "D8BDZzhXdhKa"
      },
      "outputs": [],
      "source": [
        "# Singular Value Decomposition\n",
        "U, s, Vt = svds(final_ratings_sparse, k = 50) # here k is the number of latent features\n",
        "\n",
        "# Construct diagonal array in SVD\n",
        "sigma = np.diag(s)"
      ]
    },
    {
      "cell_type": "code",
      "execution_count": 15,
      "metadata": {
        "colab": {
          "base_uri": "https://localhost:8080/"
        },
        "id": "IqVjx_ebfkZD",
        "outputId": "412703cf-e6c6-4322-d1e3-5e45d2a27957"
      },
      "outputs": [
        {
          "data": {
            "text/plain": [
              "(1540, 50)"
            ]
          },
          "execution_count": 15,
          "metadata": {},
          "output_type": "execute_result"
        }
      ],
      "source": [
        "U.shape"
      ]
    },
    {
      "cell_type": "code",
      "execution_count": 16,
      "metadata": {
        "colab": {
          "base_uri": "https://localhost:8080/"
        },
        "id": "i0pbUMYXfnvq",
        "outputId": "af7129f1-371e-454e-80dc-66f960870ef9"
      },
      "outputs": [
        {
          "data": {
            "text/plain": [
              "(50, 50)"
            ]
          },
          "execution_count": 16,
          "metadata": {},
          "output_type": "execute_result"
        }
      ],
      "source": [
        "sigma.shape"
      ]
    },
    {
      "cell_type": "code",
      "execution_count": 17,
      "metadata": {
        "colab": {
          "base_uri": "https://localhost:8080/"
        },
        "id": "9eK_VGtwfoRJ",
        "outputId": "9d84b451-249f-4951-9f17-354e3178da9d"
      },
      "outputs": [
        {
          "data": {
            "text/plain": [
              "(50, 48190)"
            ]
          },
          "execution_count": 17,
          "metadata": {},
          "output_type": "execute_result"
        }
      ],
      "source": [
        "Vt.shape"
      ]
    },
    {
      "cell_type": "markdown",
      "metadata": {
        "id": "FSE_KKudftuk"
      },
      "source": [
        "Now, let's regenerate the original matrix using U, Sigma, and Vt matrices. The resulting matrix would be the predicted ratings for all users and products"
      ]
    },
    {
      "cell_type": "markdown",
      "metadata": {
        "id": "BVnvgQkwmvfL"
      },
      "source": [
        "## Predicting ratings"
      ]
    },
    {
      "cell_type": "code",
      "execution_count": 18,
      "metadata": {
        "id": "hURsS2H3fuby"
      },
      "outputs": [],
      "source": [
        "all_user_predicted_ratings = np.dot(np.dot(U, sigma), Vt) \n",
        "\n",
        "# Predicted ratings\n",
        "preds_df = pd.DataFrame(abs(all_user_predicted_ratings), columns = final_ratings_matrix.columns)\n",
        "preds_df.head()\n",
        "preds_matrix = csr_matrix(preds_df.values)"
      ]
    },
    {
      "cell_type": "markdown",
      "metadata": {
        "id": "jRS4Fndbfx-c"
      },
      "source": [
        "## Function to recommend products"
      ]
    },
    {
      "cell_type": "code",
      "execution_count": 19,
      "metadata": {
        "id": "IMI2d1sXiILL"
      },
      "outputs": [],
      "source": [
        "import numpy as np\n",
        "\n",
        "def recommend_items(user_index, interactions_matrix, preds_matrix, num_recommendations):\n",
        "    \n",
        "    # Get the user's ratings from the actual and predicted interaction matrices\n",
        "    user_ratings = interactions_matrix[user_index,:].toarray().reshape(-1)\n",
        "    user_predictions = preds_matrix[user_index,:].toarray().reshape(-1)\n",
        "\n",
        "    #Creating a dataframe with actual and predicted ratings columns\n",
        "    temp = pd.DataFrame({'user_ratings': user_ratings, 'user_predictions': user_predictions})\n",
        "    temp['Recommended Products'] = np.arange(len(user_ratings))\n",
        "    temp = temp.set_index('Recommended Products')\n",
        "    \n",
        "    #Filtering the dataframe where actual ratings are 0 which implies that the user has not interacted with that product\n",
        "    temp = temp.loc[temp.user_ratings == 0]   \n",
        "    \n",
        "    #Recommending products with top predicted ratings\n",
        "    temp = temp.sort_values('user_predictions',ascending=False)#Sort the dataframe by user_predictions in descending order\n",
        "    print('\\nBelow are the recommended products for user(user_id = {}):\\n'.format(user_index))\n",
        "    print(temp['user_predictions'].head(num_recommendations))\n"
      ]
    },
    {
      "cell_type": "markdown",
      "metadata": {
        "id": "ni3knh42f5qa"
      },
      "source": [
        "### Recommending top 5 products to user id 121"
      ]
    },
    {
      "cell_type": "code",
      "execution_count": 20,
      "metadata": {
        "colab": {
          "base_uri": "https://localhost:8080/"
        },
        "id": "IxLbE4G6f80b",
        "outputId": "9db9e9ee-3999-4a06-9a73-ead583865ded"
      },
      "outputs": [
        {
          "name": "stdout",
          "output_type": "stream",
          "text": [
            "\n",
            "Below are the recommended products for user(user_id = 121):\n",
            "\n",
            "Recommended Products\n",
            "28761    2.414390\n",
            "39003    1.521306\n",
            "41420    1.309224\n",
            "40158    1.200111\n",
            "33819    1.126866\n",
            "Name: user_predictions, dtype: float64\n"
          ]
        }
      ],
      "source": [
        "#Enter 'user index' and 'num_recommendations' for the user\n",
        "recommend_items(121,final_ratings_sparse,preds_matrix,5)"
      ]
    },
    {
      "cell_type": "markdown",
      "metadata": {
        "id": "913jkZjPm9qr"
      },
      "source": [
        "### Recommending top 10 products to user id 100"
      ]
    },
    {
      "cell_type": "code",
      "execution_count": 21,
      "metadata": {
        "colab": {
          "base_uri": "https://localhost:8080/"
        },
        "id": "QVBWustNlnXh",
        "outputId": "19185fbe-765e-4ac4-cf1c-07a805824a98"
      },
      "outputs": [
        {
          "name": "stdout",
          "output_type": "stream",
          "text": [
            "\n",
            "Below are the recommended products for user(user_id = 100):\n",
            "\n",
            "Recommended Products\n",
            "11078    1.624746\n",
            "16159    1.132730\n",
            "10276    1.047888\n",
            "22210    0.955049\n",
            "18887    0.879705\n",
            "41618    0.854430\n",
            "45008    0.816153\n",
            "43419    0.803755\n",
            "28761    0.748799\n",
            "14791    0.748797\n",
            "Name: user_predictions, dtype: float64\n"
          ]
        }
      ],
      "source": [
        "recommend_items(100,final_ratings_sparse,preds_matrix,10)"
      ]
    },
    {
      "cell_type": "markdown",
      "metadata": {
        "id": "th5-d8wFmD9r"
      },
      "source": [
        "## Evaluating the model"
      ]
    },
    {
      "cell_type": "code",
      "execution_count": 22,
      "metadata": {
        "colab": {
          "base_uri": "https://localhost:8080/",
          "height": 331
        },
        "id": "iZYhmD6hmEPz",
        "outputId": "b2c5355a-3e17-4536-ed75-ef854c48be66"
      },
      "outputs": [
        {
          "data": {
            "text/html": [
              "<div>\n",
              "<style scoped>\n",
              "    .dataframe tbody tr th:only-of-type {\n",
              "        vertical-align: middle;\n",
              "    }\n",
              "\n",
              "    .dataframe tbody tr th {\n",
              "        vertical-align: top;\n",
              "    }\n",
              "\n",
              "    .dataframe thead th {\n",
              "        text-align: right;\n",
              "    }\n",
              "</style>\n",
              "<table border=\"1\" class=\"dataframe\">\n",
              "  <thead>\n",
              "    <tr style=\"text-align: right;\">\n",
              "      <th>prod_id</th>\n",
              "      <th>0594451647</th>\n",
              "      <th>0594481813</th>\n",
              "      <th>0970407998</th>\n",
              "      <th>0972683275</th>\n",
              "      <th>1400501466</th>\n",
              "      <th>1400501520</th>\n",
              "      <th>1400501776</th>\n",
              "      <th>1400532620</th>\n",
              "      <th>1400532655</th>\n",
              "      <th>140053271X</th>\n",
              "      <th>...</th>\n",
              "      <th>B00L5YZCCG</th>\n",
              "      <th>B00L8I6SFY</th>\n",
              "      <th>B00L8QCVL6</th>\n",
              "      <th>B00LA6T0LS</th>\n",
              "      <th>B00LBZ1Z7K</th>\n",
              "      <th>B00LED02VY</th>\n",
              "      <th>B00LGN7Y3G</th>\n",
              "      <th>B00LGQ6HL8</th>\n",
              "      <th>B00LI4ZZO8</th>\n",
              "      <th>B00LKG1MC8</th>\n",
              "    </tr>\n",
              "    <tr>\n",
              "      <th>user_index</th>\n",
              "      <th></th>\n",
              "      <th></th>\n",
              "      <th></th>\n",
              "      <th></th>\n",
              "      <th></th>\n",
              "      <th></th>\n",
              "      <th></th>\n",
              "      <th></th>\n",
              "      <th></th>\n",
              "      <th></th>\n",
              "      <th></th>\n",
              "      <th></th>\n",
              "      <th></th>\n",
              "      <th></th>\n",
              "      <th></th>\n",
              "      <th></th>\n",
              "      <th></th>\n",
              "      <th></th>\n",
              "      <th></th>\n",
              "      <th></th>\n",
              "      <th></th>\n",
              "    </tr>\n",
              "  </thead>\n",
              "  <tbody>\n",
              "    <tr>\n",
              "      <th>0</th>\n",
              "      <td>0.0</td>\n",
              "      <td>0.0</td>\n",
              "      <td>0.0</td>\n",
              "      <td>0.0</td>\n",
              "      <td>0.0</td>\n",
              "      <td>0.0</td>\n",
              "      <td>0.0</td>\n",
              "      <td>0.0</td>\n",
              "      <td>0.0</td>\n",
              "      <td>0.0</td>\n",
              "      <td>...</td>\n",
              "      <td>0.0</td>\n",
              "      <td>0.0</td>\n",
              "      <td>0.0</td>\n",
              "      <td>0.0</td>\n",
              "      <td>0.0</td>\n",
              "      <td>0.0</td>\n",
              "      <td>0.0</td>\n",
              "      <td>0.0</td>\n",
              "      <td>0.0</td>\n",
              "      <td>0.0</td>\n",
              "    </tr>\n",
              "    <tr>\n",
              "      <th>1</th>\n",
              "      <td>0.0</td>\n",
              "      <td>0.0</td>\n",
              "      <td>0.0</td>\n",
              "      <td>0.0</td>\n",
              "      <td>0.0</td>\n",
              "      <td>0.0</td>\n",
              "      <td>0.0</td>\n",
              "      <td>0.0</td>\n",
              "      <td>0.0</td>\n",
              "      <td>0.0</td>\n",
              "      <td>...</td>\n",
              "      <td>0.0</td>\n",
              "      <td>0.0</td>\n",
              "      <td>0.0</td>\n",
              "      <td>0.0</td>\n",
              "      <td>0.0</td>\n",
              "      <td>0.0</td>\n",
              "      <td>0.0</td>\n",
              "      <td>0.0</td>\n",
              "      <td>0.0</td>\n",
              "      <td>0.0</td>\n",
              "    </tr>\n",
              "    <tr>\n",
              "      <th>2</th>\n",
              "      <td>0.0</td>\n",
              "      <td>0.0</td>\n",
              "      <td>0.0</td>\n",
              "      <td>0.0</td>\n",
              "      <td>0.0</td>\n",
              "      <td>0.0</td>\n",
              "      <td>0.0</td>\n",
              "      <td>0.0</td>\n",
              "      <td>0.0</td>\n",
              "      <td>0.0</td>\n",
              "      <td>...</td>\n",
              "      <td>0.0</td>\n",
              "      <td>0.0</td>\n",
              "      <td>0.0</td>\n",
              "      <td>0.0</td>\n",
              "      <td>0.0</td>\n",
              "      <td>0.0</td>\n",
              "      <td>0.0</td>\n",
              "      <td>0.0</td>\n",
              "      <td>0.0</td>\n",
              "      <td>0.0</td>\n",
              "    </tr>\n",
              "    <tr>\n",
              "      <th>3</th>\n",
              "      <td>0.0</td>\n",
              "      <td>0.0</td>\n",
              "      <td>0.0</td>\n",
              "      <td>0.0</td>\n",
              "      <td>0.0</td>\n",
              "      <td>0.0</td>\n",
              "      <td>0.0</td>\n",
              "      <td>0.0</td>\n",
              "      <td>0.0</td>\n",
              "      <td>0.0</td>\n",
              "      <td>...</td>\n",
              "      <td>0.0</td>\n",
              "      <td>0.0</td>\n",
              "      <td>0.0</td>\n",
              "      <td>0.0</td>\n",
              "      <td>0.0</td>\n",
              "      <td>0.0</td>\n",
              "      <td>0.0</td>\n",
              "      <td>0.0</td>\n",
              "      <td>0.0</td>\n",
              "      <td>0.0</td>\n",
              "    </tr>\n",
              "    <tr>\n",
              "      <th>4</th>\n",
              "      <td>0.0</td>\n",
              "      <td>0.0</td>\n",
              "      <td>0.0</td>\n",
              "      <td>0.0</td>\n",
              "      <td>0.0</td>\n",
              "      <td>0.0</td>\n",
              "      <td>0.0</td>\n",
              "      <td>0.0</td>\n",
              "      <td>0.0</td>\n",
              "      <td>0.0</td>\n",
              "      <td>...</td>\n",
              "      <td>0.0</td>\n",
              "      <td>0.0</td>\n",
              "      <td>0.0</td>\n",
              "      <td>0.0</td>\n",
              "      <td>0.0</td>\n",
              "      <td>0.0</td>\n",
              "      <td>0.0</td>\n",
              "      <td>0.0</td>\n",
              "      <td>0.0</td>\n",
              "      <td>0.0</td>\n",
              "    </tr>\n",
              "  </tbody>\n",
              "</table>\n",
              "<p>5 rows × 48190 columns</p>\n",
              "</div>"
            ],
            "text/plain": [
              "prod_id     0594451647  0594481813  0970407998  0972683275  1400501466  \\\n",
              "user_index                                                               \n",
              "0                  0.0         0.0         0.0         0.0         0.0   \n",
              "1                  0.0         0.0         0.0         0.0         0.0   \n",
              "2                  0.0         0.0         0.0         0.0         0.0   \n",
              "3                  0.0         0.0         0.0         0.0         0.0   \n",
              "4                  0.0         0.0         0.0         0.0         0.0   \n",
              "\n",
              "prod_id     1400501520  1400501776  1400532620  1400532655  140053271X  ...  \\\n",
              "user_index                                                              ...   \n",
              "0                  0.0         0.0         0.0         0.0         0.0  ...   \n",
              "1                  0.0         0.0         0.0         0.0         0.0  ...   \n",
              "2                  0.0         0.0         0.0         0.0         0.0  ...   \n",
              "3                  0.0         0.0         0.0         0.0         0.0  ...   \n",
              "4                  0.0         0.0         0.0         0.0         0.0  ...   \n",
              "\n",
              "prod_id     B00L5YZCCG  B00L8I6SFY  B00L8QCVL6  B00LA6T0LS  B00LBZ1Z7K  \\\n",
              "user_index                                                               \n",
              "0                  0.0         0.0         0.0         0.0         0.0   \n",
              "1                  0.0         0.0         0.0         0.0         0.0   \n",
              "2                  0.0         0.0         0.0         0.0         0.0   \n",
              "3                  0.0         0.0         0.0         0.0         0.0   \n",
              "4                  0.0         0.0         0.0         0.0         0.0   \n",
              "\n",
              "prod_id     B00LED02VY  B00LGN7Y3G  B00LGQ6HL8  B00LI4ZZO8  B00LKG1MC8  \n",
              "user_index                                                              \n",
              "0                  0.0         0.0         0.0         0.0         0.0  \n",
              "1                  0.0         0.0         0.0         0.0         0.0  \n",
              "2                  0.0         0.0         0.0         0.0         0.0  \n",
              "3                  0.0         0.0         0.0         0.0         0.0  \n",
              "4                  0.0         0.0         0.0         0.0         0.0  \n",
              "\n",
              "[5 rows x 48190 columns]"
            ]
          },
          "execution_count": 22,
          "metadata": {},
          "output_type": "execute_result"
        }
      ],
      "source": [
        "final_ratings_matrix['user_index'] = np.arange(0, final_ratings_matrix.shape[0])\n",
        "final_ratings_matrix.set_index(['user_index'], inplace=True)\n",
        "\n",
        "# Actual ratings given by users\n",
        "final_ratings_matrix.head()"
      ]
    },
    {
      "cell_type": "code",
      "execution_count": 23,
      "metadata": {
        "colab": {
          "base_uri": "https://localhost:8080/"
        },
        "id": "3cTXMcS0mNni",
        "outputId": "c3d0c15b-e3fc-42ab-a66d-88db90de364c"
      },
      "outputs": [
        {
          "data": {
            "text/plain": [
              "prod_id\n",
              "0594451647    0.003247\n",
              "0594481813    0.001948\n",
              "0970407998    0.003247\n",
              "0972683275    0.012338\n",
              "1400501466    0.012987\n",
              "dtype: float64"
            ]
          },
          "execution_count": 23,
          "metadata": {},
          "output_type": "execute_result"
        }
      ],
      "source": [
        "average_rating = final_ratings_matrix.mean()\n",
        "average_rating.head()"
      ]
    },
    {
      "cell_type": "code",
      "execution_count": 24,
      "metadata": {
        "colab": {
          "base_uri": "https://localhost:8080/",
          "height": 299
        },
        "id": "-QoOy6c2mQIj",
        "outputId": "fa3504da-4f29-42f5-d747-79f4886b80d6"
      },
      "outputs": [
        {
          "data": {
            "text/html": [
              "<div>\n",
              "<style scoped>\n",
              "    .dataframe tbody tr th:only-of-type {\n",
              "        vertical-align: middle;\n",
              "    }\n",
              "\n",
              "    .dataframe tbody tr th {\n",
              "        vertical-align: top;\n",
              "    }\n",
              "\n",
              "    .dataframe thead th {\n",
              "        text-align: right;\n",
              "    }\n",
              "</style>\n",
              "<table border=\"1\" class=\"dataframe\">\n",
              "  <thead>\n",
              "    <tr style=\"text-align: right;\">\n",
              "      <th>prod_id</th>\n",
              "      <th>0594451647</th>\n",
              "      <th>0594481813</th>\n",
              "      <th>0970407998</th>\n",
              "      <th>0972683275</th>\n",
              "      <th>1400501466</th>\n",
              "      <th>1400501520</th>\n",
              "      <th>1400501776</th>\n",
              "      <th>1400532620</th>\n",
              "      <th>1400532655</th>\n",
              "      <th>140053271X</th>\n",
              "      <th>...</th>\n",
              "      <th>B00L5YZCCG</th>\n",
              "      <th>B00L8I6SFY</th>\n",
              "      <th>B00L8QCVL6</th>\n",
              "      <th>B00LA6T0LS</th>\n",
              "      <th>B00LBZ1Z7K</th>\n",
              "      <th>B00LED02VY</th>\n",
              "      <th>B00LGN7Y3G</th>\n",
              "      <th>B00LGQ6HL8</th>\n",
              "      <th>B00LI4ZZO8</th>\n",
              "      <th>B00LKG1MC8</th>\n",
              "    </tr>\n",
              "  </thead>\n",
              "  <tbody>\n",
              "    <tr>\n",
              "      <th>0</th>\n",
              "      <td>0.005086</td>\n",
              "      <td>0.002178</td>\n",
              "      <td>0.003668</td>\n",
              "      <td>0.040843</td>\n",
              "      <td>0.009640</td>\n",
              "      <td>0.006808</td>\n",
              "      <td>0.020659</td>\n",
              "      <td>0.000649</td>\n",
              "      <td>0.020331</td>\n",
              "      <td>0.005633</td>\n",
              "      <td>...</td>\n",
              "      <td>0.000238</td>\n",
              "      <td>0.061477</td>\n",
              "      <td>0.001214</td>\n",
              "      <td>0.123433</td>\n",
              "      <td>0.028490</td>\n",
              "      <td>0.016109</td>\n",
              "      <td>0.002855</td>\n",
              "      <td>0.174568</td>\n",
              "      <td>0.011367</td>\n",
              "      <td>0.012997</td>\n",
              "    </tr>\n",
              "    <tr>\n",
              "      <th>1</th>\n",
              "      <td>0.002286</td>\n",
              "      <td>0.010898</td>\n",
              "      <td>0.000724</td>\n",
              "      <td>0.130259</td>\n",
              "      <td>0.007506</td>\n",
              "      <td>0.003350</td>\n",
              "      <td>0.063711</td>\n",
              "      <td>0.000674</td>\n",
              "      <td>0.016111</td>\n",
              "      <td>0.002433</td>\n",
              "      <td>...</td>\n",
              "      <td>0.000038</td>\n",
              "      <td>0.013766</td>\n",
              "      <td>0.001473</td>\n",
              "      <td>0.025588</td>\n",
              "      <td>0.042103</td>\n",
              "      <td>0.004251</td>\n",
              "      <td>0.002177</td>\n",
              "      <td>0.024362</td>\n",
              "      <td>0.014765</td>\n",
              "      <td>0.038570</td>\n",
              "    </tr>\n",
              "    <tr>\n",
              "      <th>2</th>\n",
              "      <td>0.001655</td>\n",
              "      <td>0.002675</td>\n",
              "      <td>0.007355</td>\n",
              "      <td>0.007264</td>\n",
              "      <td>0.005152</td>\n",
              "      <td>0.003986</td>\n",
              "      <td>0.003480</td>\n",
              "      <td>0.006961</td>\n",
              "      <td>0.006606</td>\n",
              "      <td>0.002719</td>\n",
              "      <td>...</td>\n",
              "      <td>0.001708</td>\n",
              "      <td>0.051040</td>\n",
              "      <td>0.000325</td>\n",
              "      <td>0.054867</td>\n",
              "      <td>0.017870</td>\n",
              "      <td>0.004996</td>\n",
              "      <td>0.002426</td>\n",
              "      <td>0.083928</td>\n",
              "      <td>0.112205</td>\n",
              "      <td>0.005964</td>\n",
              "    </tr>\n",
              "    <tr>\n",
              "      <th>3</th>\n",
              "      <td>0.001856</td>\n",
              "      <td>0.011019</td>\n",
              "      <td>0.005910</td>\n",
              "      <td>0.014134</td>\n",
              "      <td>0.000179</td>\n",
              "      <td>0.001877</td>\n",
              "      <td>0.005391</td>\n",
              "      <td>0.001709</td>\n",
              "      <td>0.004968</td>\n",
              "      <td>0.001402</td>\n",
              "      <td>...</td>\n",
              "      <td>0.000582</td>\n",
              "      <td>0.009326</td>\n",
              "      <td>0.000465</td>\n",
              "      <td>0.048315</td>\n",
              "      <td>0.023302</td>\n",
              "      <td>0.006790</td>\n",
              "      <td>0.003380</td>\n",
              "      <td>0.005460</td>\n",
              "      <td>0.015263</td>\n",
              "      <td>0.025996</td>\n",
              "    </tr>\n",
              "    <tr>\n",
              "      <th>4</th>\n",
              "      <td>0.001115</td>\n",
              "      <td>0.002670</td>\n",
              "      <td>0.011018</td>\n",
              "      <td>0.014434</td>\n",
              "      <td>0.010319</td>\n",
              "      <td>0.006002</td>\n",
              "      <td>0.017151</td>\n",
              "      <td>0.003726</td>\n",
              "      <td>0.001404</td>\n",
              "      <td>0.005645</td>\n",
              "      <td>...</td>\n",
              "      <td>0.000207</td>\n",
              "      <td>0.023761</td>\n",
              "      <td>0.000747</td>\n",
              "      <td>0.019347</td>\n",
              "      <td>0.012749</td>\n",
              "      <td>0.001026</td>\n",
              "      <td>0.001364</td>\n",
              "      <td>0.020580</td>\n",
              "      <td>0.011828</td>\n",
              "      <td>0.012770</td>\n",
              "    </tr>\n",
              "  </tbody>\n",
              "</table>\n",
              "<p>5 rows × 48190 columns</p>\n",
              "</div>"
            ],
            "text/plain": [
              "prod_id  0594451647  0594481813  0970407998  0972683275  1400501466  \\\n",
              "0          0.005086    0.002178    0.003668    0.040843    0.009640   \n",
              "1          0.002286    0.010898    0.000724    0.130259    0.007506   \n",
              "2          0.001655    0.002675    0.007355    0.007264    0.005152   \n",
              "3          0.001856    0.011019    0.005910    0.014134    0.000179   \n",
              "4          0.001115    0.002670    0.011018    0.014434    0.010319   \n",
              "\n",
              "prod_id  1400501520  1400501776  1400532620  1400532655  140053271X  ...  \\\n",
              "0          0.006808    0.020659    0.000649    0.020331    0.005633  ...   \n",
              "1          0.003350    0.063711    0.000674    0.016111    0.002433  ...   \n",
              "2          0.003986    0.003480    0.006961    0.006606    0.002719  ...   \n",
              "3          0.001877    0.005391    0.001709    0.004968    0.001402  ...   \n",
              "4          0.006002    0.017151    0.003726    0.001404    0.005645  ...   \n",
              "\n",
              "prod_id  B00L5YZCCG  B00L8I6SFY  B00L8QCVL6  B00LA6T0LS  B00LBZ1Z7K  \\\n",
              "0          0.000238    0.061477    0.001214    0.123433    0.028490   \n",
              "1          0.000038    0.013766    0.001473    0.025588    0.042103   \n",
              "2          0.001708    0.051040    0.000325    0.054867    0.017870   \n",
              "3          0.000582    0.009326    0.000465    0.048315    0.023302   \n",
              "4          0.000207    0.023761    0.000747    0.019347    0.012749   \n",
              "\n",
              "prod_id  B00LED02VY  B00LGN7Y3G  B00LGQ6HL8  B00LI4ZZO8  B00LKG1MC8  \n",
              "0          0.016109    0.002855    0.174568    0.011367    0.012997  \n",
              "1          0.004251    0.002177    0.024362    0.014765    0.038570  \n",
              "2          0.004996    0.002426    0.083928    0.112205    0.005964  \n",
              "3          0.006790    0.003380    0.005460    0.015263    0.025996  \n",
              "4          0.001026    0.001364    0.020580    0.011828    0.012770  \n",
              "\n",
              "[5 rows x 48190 columns]"
            ]
          },
          "execution_count": 24,
          "metadata": {},
          "output_type": "execute_result"
        }
      ],
      "source": [
        "preds_df.head()"
      ]
    },
    {
      "cell_type": "code",
      "execution_count": 25,
      "metadata": {
        "colab": {
          "base_uri": "https://localhost:8080/"
        },
        "id": "r19iVskYmTSV",
        "outputId": "d6a6540b-2d6f-4d9b-a27f-a2b783454a51"
      },
      "outputs": [
        {
          "data": {
            "text/plain": [
              "prod_id\n",
              "0594451647    0.003360\n",
              "0594481813    0.005729\n",
              "0970407998    0.008566\n",
              "0972683275    0.035330\n",
              "1400501466    0.006966\n",
              "dtype: float64"
            ]
          },
          "execution_count": 25,
          "metadata": {},
          "output_type": "execute_result"
        }
      ],
      "source": [
        "avg_preds=preds_df.mean()\n",
        "avg_preds.head()"
      ]
    },
    {
      "cell_type": "code",
      "execution_count": 26,
      "metadata": {
        "colab": {
          "base_uri": "https://localhost:8080/",
          "height": 237
        },
        "id": "5Aeap4h2mVTM",
        "outputId": "ccc881df-f14a-4d8c-fdb2-0e9efa7f9de7"
      },
      "outputs": [
        {
          "data": {
            "text/html": [
              "<div>\n",
              "<style scoped>\n",
              "    .dataframe tbody tr th:only-of-type {\n",
              "        vertical-align: middle;\n",
              "    }\n",
              "\n",
              "    .dataframe tbody tr th {\n",
              "        vertical-align: top;\n",
              "    }\n",
              "\n",
              "    .dataframe thead th {\n",
              "        text-align: right;\n",
              "    }\n",
              "</style>\n",
              "<table border=\"1\" class=\"dataframe\">\n",
              "  <thead>\n",
              "    <tr style=\"text-align: right;\">\n",
              "      <th></th>\n",
              "      <th>Avg_actual_ratings</th>\n",
              "      <th>Avg_predicted_ratings</th>\n",
              "    </tr>\n",
              "    <tr>\n",
              "      <th>prod_id</th>\n",
              "      <th></th>\n",
              "      <th></th>\n",
              "    </tr>\n",
              "  </thead>\n",
              "  <tbody>\n",
              "    <tr>\n",
              "      <th>0594451647</th>\n",
              "      <td>0.003247</td>\n",
              "      <td>0.003360</td>\n",
              "    </tr>\n",
              "    <tr>\n",
              "      <th>0594481813</th>\n",
              "      <td>0.001948</td>\n",
              "      <td>0.005729</td>\n",
              "    </tr>\n",
              "    <tr>\n",
              "      <th>0970407998</th>\n",
              "      <td>0.003247</td>\n",
              "      <td>0.008566</td>\n",
              "    </tr>\n",
              "    <tr>\n",
              "      <th>0972683275</th>\n",
              "      <td>0.012338</td>\n",
              "      <td>0.035330</td>\n",
              "    </tr>\n",
              "    <tr>\n",
              "      <th>1400501466</th>\n",
              "      <td>0.012987</td>\n",
              "      <td>0.006966</td>\n",
              "    </tr>\n",
              "  </tbody>\n",
              "</table>\n",
              "</div>"
            ],
            "text/plain": [
              "            Avg_actual_ratings  Avg_predicted_ratings\n",
              "prod_id                                              \n",
              "0594451647            0.003247               0.003360\n",
              "0594481813            0.001948               0.005729\n",
              "0970407998            0.003247               0.008566\n",
              "0972683275            0.012338               0.035330\n",
              "1400501466            0.012987               0.006966"
            ]
          },
          "execution_count": 26,
          "metadata": {},
          "output_type": "execute_result"
        }
      ],
      "source": [
        "rmse_df = pd.concat([average_rating, avg_preds], axis=1)\n",
        "\n",
        "rmse_df.columns = ['Avg_actual_ratings', 'Avg_predicted_ratings']\n",
        "\n",
        "rmse_df.head()"
      ]
    },
    {
      "cell_type": "code",
      "execution_count": 27,
      "metadata": {
        "colab": {
          "base_uri": "https://localhost:8080/"
        },
        "id": "l9HPwqQwmWoq",
        "outputId": "e1c1c435-f583-4d1c-d34a-432366cef52f"
      },
      "outputs": [
        {
          "name": "stdout",
          "output_type": "stream",
          "text": [
            "RMSE SVD Model = 0.01367938977985799 \n",
            "\n"
          ]
        }
      ],
      "source": [
        "RMSE=mean_squared_error(rmse_df['Avg_actual_ratings'], rmse_df['Avg_predicted_ratings'], squared=False)\n",
        "print(f'RMSE SVD Model = {RMSE} \\n')"
      ]
    }
  ],
  "metadata": {
    "accelerator": "GPU",
    "colab": {
      "authorship_tag": "ABX9TyMbPI+tkxF6Sx9HTCoIuAm5",
      "collapsed_sections": [
        "7dzfbm7tw1YJ"
      ],
      "gpuType": "T4",
      "include_colab_link": true,
      "mount_file_id": "1Zin3TuHLmuOAkQ5OkcqRmRT8xRfoE2a4",
      "provenance": []
    },
    "gpuClass": "standard",
    "kernelspec": {
      "display_name": "Python 3",
      "name": "python3"
    },
    "language_info": {
      "codemirror_mode": {
        "name": "ipython",
        "version": 3
      },
      "file_extension": ".py",
      "mimetype": "text/x-python",
      "name": "python",
      "nbconvert_exporter": "python",
      "pygments_lexer": "ipython3",
      "version": "3.10.12"
    }
  },
  "nbformat": 4,
  "nbformat_minor": 0
}
